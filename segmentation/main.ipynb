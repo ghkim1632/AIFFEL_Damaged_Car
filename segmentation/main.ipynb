{
 "cells": [
  {
   "cell_type": "code",
   "execution_count": 1,
   "metadata": {},
   "outputs": [],
   "source": [
    "import sys\n",
    "sys.path.append('../')"
   ]
  },
  {
   "cell_type": "code",
   "execution_count": 2,
   "metadata": {},
   "outputs": [],
   "source": [
    "import os, glob, random, cv2\n",
    "import wandb\n",
    "import torch\n",
    "import torch.nn as nn\n",
    "import torch.nn.functional as F\n",
    "import torch.optim as optim\n",
    "\n",
    "import albumentations as A\n",
    "import segmentation_models_pytorch as smp\n",
    "import model.metric as module_metric\n",
    "\n",
    "from data_loader.dataloader import get_dataloader\n",
    "from utils.data import get_datasize\n",
    "from utils.visual import *\n",
    "from albumentations.pytorch import transforms\n",
    "from model.loss import *\n",
    "from train import *\n",
    "from pathlib import Path\n"
   ]
  },
  {
   "cell_type": "code",
   "execution_count": 3,
   "metadata": {},
   "outputs": [],
   "source": [
    "SEED = 42\n",
    "torch.manual_seed(SEED)\n",
    "torch.cuda.manual_seed(SEED)\n",
    "torch.backends.cudnn.deterministic = True\n",
    "torch.backends.cudnn.benchmark = False\n",
    "np.random.seed(SEED)"
   ]
  },
  {
   "cell_type": "code",
   "execution_count": 4,
   "metadata": {},
   "outputs": [],
   "source": [
    "device = 'cuda:0' if torch.cuda.is_available() else 'cpu'\n",
    "\n",
    "lr = 1e-3\n",
    "batch_size = 4\n",
    "num_epoch = 100\n",
    "damage = 'dent'\n",
    "\n",
    "train_dir = f'./dataset/{damage}/train/'\n",
    "val_dir = f'./dataset/{damage}/valid/'"
   ]
  },
  {
   "cell_type": "code",
   "execution_count": 5,
   "metadata": {},
   "outputs": [],
   "source": [
    "transform_train = A.Compose([\n",
    "    A.HorizontalFlip(),\n",
    "    A.Rotate((-10, 10), p=0.5, border_mode=cv2.BORDER_REFLECT,),\n",
    "    A.Resize(512, 512),\n",
    "    A.Normalize(mean = 0.5, std=0.5),\n",
    "    transforms.ToTensorV2(transpose_mask=True)\n",
    "])\n",
    "\n",
    "transform_val = A.Compose([\n",
    "    A.Resize(512, 512),\n",
    "    A.Normalize(mean = 0.5, std=0.5),\n",
    "    transforms.ToTensorV2(transpose_mask=True)\n",
    "])"
   ]
  },
  {
   "cell_type": "code",
   "execution_count": 6,
   "metadata": {},
   "outputs": [],
   "source": [
    "train_dataloader = get_dataloader(train_dir, transform_train, batch_size)\n",
    "val_dataloader = get_dataloader(val_dir, transform_val, batch_size)"
   ]
  },
  {
   "cell_type": "code",
   "execution_count": 7,
   "metadata": {},
   "outputs": [],
   "source": [
    "model = smp.Unet(encoder_name='efficientnet-b7', encoder_weights='imagenet', in_channels=3, classes=1, activation=None)\n",
    "model = model.to(device)"
   ]
  },
  {
   "cell_type": "code",
   "execution_count": 8,
   "metadata": {},
   "outputs": [],
   "source": [
    "criterion = DiceLoss().to(device)\n",
    "optimizer = optim.Adam(model.parameters(), lr=lr, weight_decay=1e-5)\n",
    "scheduler = optim.lr_scheduler.ReduceLROnPlateau(optimizer=optimizer, mode='min', factor=0.5, patience=5, min_lr=1e-7)\n",
    "metrics = [getattr(module_metric, met) for met in ['IOUscore', 'PixelAccuracy']]"
   ]
  },
  {
   "cell_type": "code",
   "execution_count": 9,
   "metadata": {},
   "outputs": [],
   "source": [
    "train_config = {}\n",
    "train_config['Batch size'] = batch_size\n",
    "train_config['Learning Rate'] = lr\n",
    "train_config['Epochs'] = num_epoch\n",
    "\n",
    "train_config['Loss fn'] = criterion.__class__.__name__\n",
    "train_config['Optimizer'] = optimizer.__class__.__name__\n",
    "train_config['LR Scheduler'] = scheduler.__class__.__name__\n",
    "train_config['Metric'] = {str(idx+1) : metric for idx, metric in enumerate([metrics[i].__name__ for i in range(len(metrics))])}\n"
   ]
  },
  {
   "cell_type": "code",
   "execution_count": 10,
   "metadata": {},
   "outputs": [],
   "source": [
    "save_dir = f\"./saved/U-Net_{model.__dict__['name'].split('-')[1:][0].capitalize()}/{model.__dict__['name'].split('-')[-1].capitalize()}_{damage}_ver0/\"\n",
    "\n",
    "trainer = Trainer(model, criterion, metrics, optimizer, device, num_epoch, save_dir,\n",
    "                                  data_loader=train_dataloader, valid_data_loader=val_dataloader,\n",
    "                                  lr_scheduler=scheduler)"
   ]
  },
  {
   "cell_type": "code",
   "execution_count": 11,
   "metadata": {},
   "outputs": [
    {
     "name": "stderr",
     "output_type": "stream",
     "text": [
      "Failed to detect the name of this notebook, you can set it manually with the WANDB_NOTEBOOK_NAME environment variable to enable code saving.\n",
      "\u001b[34m\u001b[1mwandb\u001b[0m: Currently logged in as: \u001b[33mimlim\u001b[0m. Use \u001b[1m`wandb login --relogin`\u001b[0m to force relogin\n"
     ]
    },
    {
     "data": {
      "text/html": [
       "wandb version 0.13.9 is available!  To upgrade, please run:\n",
       " $ pip install wandb --upgrade"
      ],
      "text/plain": [
       "<IPython.core.display.HTML object>"
      ]
     },
     "metadata": {},
     "output_type": "display_data"
    },
    {
     "data": {
      "text/html": [
       "Tracking run with wandb version 0.13.6"
      ],
      "text/plain": [
       "<IPython.core.display.HTML object>"
      ]
     },
     "metadata": {},
     "output_type": "display_data"
    },
    {
     "data": {
      "text/html": [
       "Run data is saved locally in <code>/home/imlim/Aiffel/segmentation/wandb/run-20230114_141217-1dkmv9as</code>"
      ],
      "text/plain": [
       "<IPython.core.display.HTML object>"
      ]
     },
     "metadata": {},
     "output_type": "display_data"
    },
    {
     "data": {
      "text/html": [
       "Syncing run <strong><a href=\"https://wandb.ai/imlim/U-Net_Efficientnet/runs/1dkmv9as\" target=\"_blank\">B7_dent_ver0</a></strong> to <a href=\"https://wandb.ai/imlim/U-Net_Efficientnet\" target=\"_blank\">Weights & Biases</a> (<a href=\"https://wandb.me/run\" target=\"_blank\">docs</a>)<br/>"
      ],
      "text/plain": [
       "<IPython.core.display.HTML object>"
      ]
     },
     "metadata": {},
     "output_type": "display_data"
    },
    {
     "data": {
      "text/html": [
       "<button onClick=\"this.nextSibling.style.display='block';this.style.display='none';\">Display W&B run</button><iframe src=\"https://wandb.ai/imlim/U-Net_Efficientnet/runs/1dkmv9as?jupyter=true\" style=\"border:none;width:100%;height:420px;display:none;\"></iframe>"
      ],
      "text/plain": [
       "<wandb.sdk.wandb_run.Run at 0x7f1d36475990>"
      ]
     },
     "execution_count": 11,
     "metadata": {},
     "output_type": "execute_result"
    }
   ],
   "source": [
    "wandb.init(project=trainer.dir.split('/')[1], name=f\"{trainer.dir.split('/')[2]}\", config=train_config)"
   ]
  },
  {
   "cell_type": "code",
   "execution_count": 12,
   "metadata": {},
   "outputs": [
    {
     "data": {
      "text/plain": [
       "'saved/U-Net_Efficientnet/B7_dent_ver0'"
      ]
     },
     "execution_count": 12,
     "metadata": {},
     "output_type": "execute_result"
    }
   ],
   "source": [
    "trainer.dir"
   ]
  },
  {
   "cell_type": "code",
   "execution_count": 13,
   "metadata": {},
   "outputs": [
    {
     "name": "stdout",
     "output_type": "stream",
     "text": [
      "\n",
      "Epoch : 0 | Train Loss : 0.90389 | Train P.A : 92.59% | Train IOU : 0.12612 | Val Loss : 0.90056 | Val P.A : 93.68% | Val IOU : 0.13784 | Training Time : 207.85sec\n",
      "\n",
      "Epoch : 1 | Train Loss : 0.85039 | Train P.A : 97.84% | Train IOU : 0.18220 | Val Loss : 0.82338 | Val P.A : 98.22% | Val IOU : 0.22424 | Training Time : 209.26sec\n",
      "\n",
      "Epoch : 2 | Train Loss : 0.83269 | Train P.A : 98.24% | Train IOU : 0.18710 | Val Loss : 0.81638 | Val P.A : 98.28% | Val IOU : 0.22162 | Training Time : 210.49sec\n",
      "\n",
      "Epoch : 3 | "
     ]
    }
   ],
   "source": [
    "trainer.train()"
   ]
  },
  {
   "cell_type": "code",
   "execution_count": null,
   "metadata": {},
   "outputs": [],
   "source": []
  }
 ],
 "metadata": {
  "kernelspec": {
   "display_name": "Torch",
   "language": "python",
   "name": "python3"
  },
  "language_info": {
   "codemirror_mode": {
    "name": "ipython",
    "version": 3
   },
   "file_extension": ".py",
   "mimetype": "text/x-python",
   "name": "python",
   "nbconvert_exporter": "python",
   "pygments_lexer": "ipython3",
   "version": "3.10.8 | packaged by conda-forge | (main, Nov 22 2022, 08:23:14) [GCC 10.4.0]"
  },
  "orig_nbformat": 4,
  "vscode": {
   "interpreter": {
    "hash": "867dcab57263476bc7cd24a738863ae113fd3e5f85bcd4c9da88727adae00323"
   }
  }
 },
 "nbformat": 4,
 "nbformat_minor": 2
}
