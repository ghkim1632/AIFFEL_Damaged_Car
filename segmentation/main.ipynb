{
 "cells": [
  {
   "cell_type": "code",
   "execution_count": 1,
   "metadata": {},
   "outputs": [],
   "source": [
    "import sys\n",
    "sys.path.append('../')"
   ]
  },
  {
   "cell_type": "code",
   "execution_count": 2,
   "metadata": {},
   "outputs": [],
   "source": [
    "import os, glob, random, cv2\n",
    "import wandb\n",
    "import torch\n",
    "import torch.nn as nn\n",
    "import torch.nn.functional as F\n",
    "import torch.optim as optim\n",
    "\n",
    "import albumentations as A\n",
    "import segmentation_models_pytorch as smp\n",
    "import model.metric as module_metric\n",
    "\n",
    "from data_loader.dataloader import get_dataloader\n",
    "from utils.data import get_datasize\n",
    "from utils.visual import *\n",
    "from albumentations.pytorch import transforms\n",
    "from model.loss import *\n",
    "from train import *\n",
    "from pathlib import Path\n"
   ]
  },
  {
   "cell_type": "code",
   "execution_count": 3,
   "metadata": {},
   "outputs": [],
   "source": [
    "SEED = 42\n",
    "torch.manual_seed(SEED)\n",
    "torch.cuda.manual_seed(SEED)\n",
    "torch.backends.cudnn.deterministic = True\n",
    "torch.backends.cudnn.benchmark = False\n",
    "np.random.seed(SEED)"
   ]
  },
  {
   "cell_type": "code",
   "execution_count": 4,
   "metadata": {},
   "outputs": [],
   "source": [
    "device = 'cuda:0' if torch.cuda.is_available() else 'cpu'\n",
    "\n",
    "lr = 1e-3\n",
    "batch_size = 4\n",
    "num_epoch = 100\n",
    "damage = 'dent'\n",
    "\n",
    "train_dir = f'./dataset/{damage}/train/'\n",
    "val_dir = f'./dataset/{damage}/valid/'"
   ]
  },
  {
   "cell_type": "code",
   "execution_count": 5,
   "metadata": {},
   "outputs": [],
   "source": [
    "transform_train = A.Compose([\n",
    "    A.HorizontalFlip(),\n",
    "    A.Rotate((-10, 10), p=0.5, border_mode=cv2.BORDER_REFLECT,),\n",
    "    A.Resize(512, 512),\n",
    "    A.Normalize(mean = 0.5, std=0.5),\n",
    "    transforms.ToTensorV2(transpose_mask=True)\n",
    "])\n",
    "\n",
    "transform_val = A.Compose([\n",
    "    A.Resize(512, 512),\n",
    "    A.Normalize(mean = 0.5, std=0.5),\n",
    "    transforms.ToTensorV2(transpose_mask=True)\n",
    "])"
   ]
  },
  {
   "cell_type": "code",
   "execution_count": 6,
   "metadata": {},
   "outputs": [],
   "source": [
    "train_dataloader = get_dataloader(train_dir, transform_train, batch_size)\n",
    "val_dataloader = get_dataloader(val_dir, transform_val, batch_size)"
   ]
  },
  {
   "cell_type": "code",
   "execution_count": 7,
   "metadata": {},
   "outputs": [],
   "source": [
    "model = smp.Unet(encoder_name='efficientnet-b0', encoder_weights='imagenet', in_channels=3, classes=1, activation=None)\n",
    "model = model.to(device)"
   ]
  },
  {
   "cell_type": "code",
   "execution_count": 8,
   "metadata": {},
   "outputs": [],
   "source": [
    "criterion = DiceLoss().to(device)\n",
    "optimizer = optim.Adam(model.parameters(), lr=lr, weight_decay=1e-5)\n",
    "scheduler = optim.lr_scheduler.ReduceLROnPlateau(optimizer=optimizer, mode='min', factor=0.5, patience=5, min_lr=1e-7)\n",
    "metrics = [getattr(module_metric, met) for met in ['IOUscore', 'PixelAccuracy']]"
   ]
  },
  {
   "cell_type": "code",
   "execution_count": 9,
   "metadata": {},
   "outputs": [],
   "source": [
    "train_config = {}\n",
    "train_config['Batch size'] = batch_size\n",
    "train_config['Learning Rate'] = lr\n",
    "train_config['Epochs'] = num_epoch\n",
    "\n",
    "train_config['Loss fn'] = criterion.__class__.__name__\n",
    "train_config['Optimizer'] = optimizer.__class__.__name__\n",
    "train_config['LR Scheduler'] = scheduler.__class__.__name__\n",
    "train_config['Metric'] = {str(idx+1) : metric for idx, metric in enumerate([metrics[i].__name__ for i in range(len(metrics))])}\n"
   ]
  },
  {
   "cell_type": "code",
   "execution_count": 10,
   "metadata": {},
   "outputs": [],
   "source": [
    "save_dir = f\"./saved/U-Net_{model.__dict__['name'].split('-')[1:][0].capitalize()}/{model.__dict__['name'].split('-')[-1].capitalize()}_{damage}_ver0/\"\n",
    "\n",
    "trainer = Trainer(model, criterion, metrics, optimizer, device, num_epoch, save_dir,\n",
    "                                  data_loader=train_dataloader, valid_data_loader=val_dataloader,\n",
    "                                  lr_scheduler=scheduler)"
   ]
  },
  {
   "cell_type": "code",
   "execution_count": 11,
   "metadata": {},
   "outputs": [
    {
     "ename": "AttributeError",
     "evalue": "'PosixPath' object has no attribute 'split'",
     "output_type": "error",
     "traceback": [
      "\u001b[0;31m---------------------------------------------------------------------------\u001b[0m",
      "\u001b[0;31mAttributeError\u001b[0m                            Traceback (most recent call last)",
      "Cell \u001b[0;32mIn[11], line 1\u001b[0m\n\u001b[0;32m----> 1\u001b[0m wandb\u001b[39m.\u001b[39minit(project\u001b[39m=\u001b[39mtrainer\u001b[39m.\u001b[39;49msave_dir\u001b[39m.\u001b[39;49msplit(\u001b[39m'\u001b[39m\u001b[39m/\u001b[39m\u001b[39m'\u001b[39m)[\u001b[39m2\u001b[39m], name\u001b[39m=\u001b[39m\u001b[39mf\u001b[39m\u001b[39m\"\u001b[39m\u001b[39m{\u001b[39;00mtrainer\u001b[39m.\u001b[39msave_dir\u001b[39m.\u001b[39msplit(\u001b[39m'\u001b[39m\u001b[39m/\u001b[39m\u001b[39m'\u001b[39m)[\u001b[39m3\u001b[39m]\u001b[39m}\u001b[39;00m\u001b[39m\"\u001b[39m, config\u001b[39m=\u001b[39mtrain_config)\n",
      "\u001b[0;31mAttributeError\u001b[0m: 'PosixPath' object has no attribute 'split'"
     ]
    }
   ],
   "source": [
    "wandb.init(project=trainer.dir.split('/')[2], name=f\"{trainer.dir.split('/')[3]}\", config=train_config)"
   ]
  },
  {
   "cell_type": "code",
   "execution_count": null,
   "metadata": {},
   "outputs": [
    {
     "name": "stdout",
     "output_type": "stream",
     "text": [
      "\n",
      "Epoch : 0 | Train Loss : 0.94079 | Train P.A : 92.46% | Train IOU : 0.01836 | Val Loss : 0.90967 | Val P.A : 94.01% | Val IOU : 0.03732 | Training Time : 94.78sec\n",
      "\n",
      "Epoch : 1 | Train Loss : 0.88769 | Train P.A : 97.37% | Train IOU : 0.03482 | Val Loss : 0.83314 | Val P.A : 98.39% | Val IOU : 0.04970 | Training Time : 93.21sec\n",
      "\n",
      "Epoch : 2 | Train Loss : 0.85706 | Train P.A : 98.23% | Train IOU : 0.04137 | Val Loss : 0.88415 | Val P.A : 99.03% | Val IOU : 0.02684 | Training Time : 92.83sec\n",
      "\n",
      "Epoch : 3 | Train Loss : 0.83099 | Train P.A : 98.40% | Train IOU : 0.04720 | Val Loss : 0.82230 | Val P.A : 98.68% | Val IOU : 0.05442 | Training Time : 92.66sec\n",
      "\n",
      "Epoch : 4 | Train Loss : 0.82380 | Train P.A : 98.33% | Train IOU : 0.05095 | Val Loss : 0.79360 | Val P.A : 98.61% | Val IOU : 0.05531 | Training Time : 92.71sec\n",
      "\n",
      "Epoch : 5 | Train Loss : 0.82282 | Train P.A : 98.42% | Train IOU : 0.04970 | Val Loss : 0.80919 | Val P.A : 98.83% | Val IOU : 0.06028 | Training Time : 93.50sec\n",
      "\n",
      "Epoch : 6 | Train Loss : 0.80938 | Train P.A : 98.50% | Train IOU : 0.05205 | Val Loss : 0.77930 | Val P.A : 98.47% | Val IOU : 0.06133 | Training Time : 92.64sec\n",
      "\n",
      "Epoch : 7 | Train Loss : 0.79179 | Train P.A : 98.50% | Train IOU : 0.05765 | Val Loss : 0.75543 | Val P.A : 98.70% | Val IOU : 0.05760 | Training Time : 93.63sec\n",
      "\n",
      "Epoch : 8 | Train Loss : 0.79586 | Train P.A : 98.56% | Train IOU : 0.05821 | Val Loss : 0.79753 | Val P.A : 98.37% | Val IOU : 0.05343 | Training Time : 93.16sec\n",
      "\n",
      "Epoch : 9 | Train Loss : 0.78225 | Train P.A : 98.63% | Train IOU : 0.05872 | Val Loss : 0.74566 | Val P.A : 98.96% | Val IOU : 0.05093 | Training Time : 93.59sec\n",
      "\n",
      "Epoch : 10 | Train Loss : 0.77875 | Train P.A : 98.64% | Train IOU : 0.06062 | Val Loss : 0.78099 | Val P.A : 98.82% | Val IOU : 0.06236 | Training Time : 93.90sec\n",
      "\n",
      "Epoch : 11 | Train Loss : 0.78296 | Train P.A : 98.65% | Train IOU : 0.06043 | Val Loss : 0.76236 | Val P.A : 99.01% | Val IOU : 0.04843 | Training Time : 93.02sec\n",
      "\n",
      "Epoch : 12 | Train Loss : 0.77274 | Train P.A : 98.68% | Train IOU : 0.05948 | Val Loss : 0.71575 | Val P.A : 98.92% | Val IOU : 0.05161 | Training Time : 93.34sec\n",
      "\n",
      "Epoch : 13 | Train Loss : 0.77574 | Train P.A : 98.73% | Train IOU : 0.05878 | Val Loss : 0.71822 | Val P.A : 99.08% | Val IOU : 0.03862 | Training Time : 93.16sec\n",
      "\n",
      "Epoch : 14 | Train Loss : 0.78073 | Train P.A : 98.74% | Train IOU : 0.05807 | Val Loss : 0.77367 | Val P.A : 98.84% | Val IOU : 0.05980 | Training Time : 93.02sec\n",
      "\n",
      "Epoch : 15 | Train Loss : 0.76686 | Train P.A : 98.78% | Train IOU : 0.06121 | Val Loss : 0.75918 | Val P.A : 98.70% | Val IOU : 0.06587 | Training Time : 93.12sec\n",
      "\n",
      "Epoch : 16 | Train Loss : 0.77441 | Train P.A : 98.75% | Train IOU : 0.05795 | Val Loss : 0.61310 | Val P.A : 99.00% | Val IOU : 0.05138 | Training Time : 94.47sec\n",
      "\n",
      "Epoch : 17 | Train Loss : 0.75203 | Train P.A : 98.75% | Train IOU : 0.06150 | Val Loss : 0.68185 | Val P.A : 98.98% | Val IOU : 0.05368 | Training Time : 93.08sec\n",
      "\n",
      "Epoch : 18 | Train Loss : 0.77342 | Train P.A : 98.76% | Train IOU : 0.06027 | Val Loss : 0.75044 | Val P.A : 98.27% | Val IOU : 0.07361 | Training Time : 92.34sec\n",
      "\n",
      "Epoch : 19 | Train Loss : 0.77042 | Train P.A : 98.67% | Train IOU : 0.06278 | Val Loss : 0.74223 | Val P.A : 98.62% | Val IOU : 0.05945 | Training Time : 92.57sec\n",
      "\n",
      "Epoch : 20 | Train Loss : 0.76295 | Train P.A : 98.66% | Train IOU : 0.06375 | Val Loss : 0.78792 | Val P.A : 98.16% | Val IOU : 0.06083 | Training Time : 91.11sec\n",
      "\n",
      "Epoch : 21 | Train Loss : 0.74856 | Train P.A : 98.79% | Train IOU : 0.06411 | Val Loss : 0.66308 | Val P.A : 98.89% | Val IOU : 0.06280 | Training Time : 92.33sec\n",
      "\n",
      "Epoch : 22 | Train Loss : 0.76323 | Train P.A : 98.67% | Train IOU : 0.06575 | Val Loss : 0.80010 | Val P.A : 98.41% | Val IOU : 0.05342 | Training Time : 92.88sec\n",
      "\n",
      "Epoch : 23 | Train Loss : 0.73479 | Train P.A : 98.84% | Train IOU : 0.06774 | Val Loss : 0.67298 | Val P.A : 98.91% | Val IOU : 0.07023 | Training Time : 93.14sec\n",
      "\n",
      "Epoch : 24 | Train Loss : 0.72797 | Train P.A : 98.87% | Train IOU : 0.06943 | Val Loss : 0.65439 | Val P.A : 98.96% | Val IOU : 0.06839 | Training Time : 92.48sec\n",
      "\n",
      "Epoch : 25 | Train Loss : 0.72770 | Train P.A : 98.88% | Train IOU : 0.07012 | Val Loss : 0.67333 | Val P.A : 98.76% | Val IOU : 0.06388 | Training Time : 93.06sec\n",
      "\n",
      "Epoch : 26 | Train Loss : 0.72659 | Train P.A : 98.87% | Train IOU : 0.07106 | Val Loss : 0.68955 | Val P.A : 98.61% | Val IOU : 0.05886 | Training Time : 90.69sec\n",
      "\n",
      "Epoch : 27 | Train Loss : 0.72596 | Train P.A : 98.82% | Train IOU : 0.07066 | Val Loss : 0.72825 | Val P.A : 98.72% | Val IOU : 0.06582 | Training Time : 91.68sec\n",
      "\n",
      "Epoch : 28 | Train Loss : 0.73197 | Train P.A : 98.84% | Train IOU : 0.07276 | Val Loss : 0.66831 | Val P.A : 98.88% | Val IOU : 0.07466 | Training Time : 92.74sec\n",
      "\n",
      "Epoch : 29 | Train Loss : 0.72065 | Train P.A : 98.87% | Train IOU : 0.07496 | Val Loss : 0.69829 | Val P.A : 98.92% | Val IOU : 0.07325 | Training Time : 91.60sec\n",
      "\n",
      "Epoch : 30 | Train Loss : 0.70659 | Train P.A : 98.94% | Train IOU : 0.07514 | Val Loss : 0.66387 | Val P.A : 99.05% | Val IOU : 0.07494 | Training Time : 92.83sec\n",
      "\n",
      "Epoch : 31 | Train Loss : 0.70959 | Train P.A : 98.93% | Train IOU : 0.07863 | Val Loss : 0.68546 | Val P.A : 98.87% | Val IOU : 0.07117 | Training Time : 94.14sec\n",
      "\n",
      "Epoch : 32 | Train Loss : 0.69311 | Train P.A : 98.96% | Train IOU : 0.07897 | Val Loss : 0.65173 | Val P.A : 98.96% | Val IOU : 0.07071 | Training Time : 93.79sec\n",
      "\n",
      "Epoch : 33 | Train Loss : 0.70087 | Train P.A : 98.91% | Train IOU : 0.07804 | Val Loss : 0.70108 | Val P.A : 98.79% | Val IOU : 0.07444 | Training Time : 93.42sec\n",
      "\n",
      "Epoch : 34 | Train Loss : 0.71152 | Train P.A : 98.91% | Train IOU : 0.07937 | Val Loss : 0.65105 | Val P.A : 98.97% | Val IOU : 0.07018 | Training Time : 94.03sec\n",
      "\n",
      "Epoch : 35 | Train Loss : 0.68455 | Train P.A : 98.96% | Train IOU : 0.08065 | Val Loss : 0.66286 | Val P.A : 98.97% | Val IOU : 0.07426 | Training Time : 93.16sec\n",
      "\n",
      "Epoch : 36 | Train Loss : 0.70017 | Train P.A : 98.94% | Train IOU : 0.08023 | Val Loss : 0.66385 | Val P.A : 98.97% | Val IOU : 0.07529 | Training Time : 93.48sec\n",
      "\n",
      "Epoch : 37 | Train Loss : 0.69359 | Train P.A : 98.94% | Train IOU : 0.08099 | Val Loss : 0.61356 | Val P.A : 98.87% | Val IOU : 0.07387 | Training Time : 94.02sec\n",
      "\n",
      "Epoch : 38 | Train Loss : 0.68636 | Train P.A : 98.96% | Train IOU : 0.08200 | Val Loss : 0.61959 | Val P.A : 98.95% | Val IOU : 0.07202 | Training Time : 93.04sec\n",
      "\n",
      "Epoch : 39 | Train Loss : 0.68379 | Train P.A : 98.95% | Train IOU : 0.08294 | Val Loss : 0.60139 | Val P.A : 99.04% | Val IOU : 0.07422 | Training Time : 92.92sec\n",
      "\n",
      "Epoch : 40 | Train Loss : 0.68893 | Train P.A : 98.98% | Train IOU : 0.08029 | Val Loss : 0.64550 | Val P.A : 98.87% | Val IOU : 0.07571 | Training Time : 94.03sec\n",
      "\n",
      "Epoch : 41 | Train Loss : 0.68509 | Train P.A : 99.01% | Train IOU : 0.08308 | Val Loss : 0.67804 | Val P.A : 98.96% | Val IOU : 0.07688 | Training Time : 93.29sec\n",
      "\n",
      "Epoch : 42 | Train Loss : 0.70055 | Train P.A : 98.94% | Train IOU : 0.08238 | Val Loss : 0.65714 | Val P.A : 98.96% | Val IOU : 0.07601 | Training Time : 92.89sec\n",
      "\n",
      "Epoch : 43 | Train Loss : 0.68583 | Train P.A : 99.02% | Train IOU : 0.08427 | Val Loss : 0.63933 | Val P.A : 98.95% | Val IOU : 0.07274 | Training Time : 93.54sec\n",
      "\n",
      "Epoch : 44 | Train Loss : 0.67084 | Train P.A : 99.08% | Train IOU : 0.08305 | Val Loss : 0.62163 | Val P.A : 98.98% | Val IOU : 0.07617 | Training Time : 94.03sec\n",
      "\n",
      "Epoch : 45 | Train Loss : 0.68909 | Train P.A : 99.00% | Train IOU : 0.08271 | Val Loss : 0.66957 | Val P.A : 99.07% | Val IOU : 0.07412 | Training Time : 93.76sec\n",
      "\n",
      "Epoch : 46 | Train Loss : 0.69748 | Train P.A : 99.03% | Train IOU : 0.08355 | Val Loss : 0.63251 | Val P.A : 98.94% | Val IOU : 0.07330 | Training Time : 93.42sec\n",
      "\n",
      "Epoch : 47 | Train Loss : 0.67572 | Train P.A : 99.09% | Train IOU : 0.08373 | Val Loss : 0.60538 | Val P.A : 99.05% | Val IOU : 0.07301 | Training Time : 93.09sec\n",
      "\n",
      "Epoch : 48 | Train Loss : 0.67374 | Train P.A : 99.04% | Train IOU : 0.08388 | Val Loss : 0.62485 | Val P.A : 99.02% | Val IOU : 0.07379 | Training Time : 93.25sec\n",
      "\n",
      "Epoch : 49 | Train Loss : 0.66944 | Train P.A : 99.09% | Train IOU : 0.08583 | Val Loss : 0.59291 | Val P.A : 99.20% | Val IOU : 0.07425 | Training Time : 93.20sec\n",
      "\n",
      "Epoch : 50 | Train Loss : 0.67863 | Train P.A : 99.08% | Train IOU : 0.08507 | Val Loss : 0.64054 | Val P.A : 98.99% | Val IOU : 0.07541 | Training Time : 93.37sec\n",
      "\n",
      "Epoch : 51 | Train Loss : 0.67045 | Train P.A : 99.05% | Train IOU : 0.08642 | Val Loss : 0.62186 | Val P.A : 99.03% | Val IOU : 0.07379 | Training Time : 92.71sec\n",
      "\n",
      "Epoch : 52 | Train Loss : 0.67715 | Train P.A : 99.06% | Train IOU : 0.08624 | Val Loss : 0.66781 | Val P.A : 99.07% | Val IOU : 0.07612 | Training Time : 93.68sec\n",
      "\n",
      "Epoch : 53 | Train Loss : 0.67527 | Train P.A : 99.11% | Train IOU : 0.08463 | Val Loss : 0.62122 | Val P.A : 99.00% | Val IOU : 0.07421 | Training Time : 93.44sec\n",
      "\n",
      "Epoch : 54 | Train Loss : 0.67050 | Train P.A : 99.10% | Train IOU : 0.08536 | Val Loss : 0.61380 | Val P.A : 99.00% | Val IOU : 0.07776 | Training Time : 92.49sec\n",
      "\n",
      "Epoch : 55 | Train Loss : 0.67511 | Train P.A : 99.07% | Train IOU : 0.08679 | Val Loss : 0.60184 | Val P.A : 99.03% | Val IOU : 0.07548 | Training Time : 93.41sec\n",
      "\n",
      "Epoch : 56 | Train Loss : 0.65387 | Train P.A : 99.16% | Train IOU : 0.08200 | Val Loss : 0.56719 | Val P.A : 99.11% | Val IOU : 0.07427 | Training Time : 92.68sec\n",
      "\n",
      "Epoch : 57 | Train Loss : 0.67034 | Train P.A : 99.13% | Train IOU : 0.08409 | Val Loss : 0.53937 | Val P.A : 99.02% | Val IOU : 0.07527 | Training Time : 94.01sec\n",
      "\n",
      "Epoch : 58 | Train Loss : 0.64501 | Train P.A : 99.16% | Train IOU : 0.08569 | Val Loss : 0.59240 | Val P.A : 99.14% | Val IOU : 0.07515 | Training Time : 93.19sec\n",
      "\n",
      "Epoch : 59 | Train Loss : 0.64052 | Train P.A : 99.21% | Train IOU : 0.08466 | Val Loss : 0.56068 | Val P.A : 99.11% | Val IOU : 0.07326 | Training Time : 93.24sec\n",
      "\n",
      "Epoch : 60 | Train Loss : 0.65321 | Train P.A : 99.22% | Train IOU : 0.07902 | Val Loss : 0.53907 | Val P.A : 99.04% | Val IOU : 0.07088 | Training Time : 94.05sec\n",
      "\n",
      "Epoch : 61 | Train Loss : 0.65722 | Train P.A : 99.17% | Train IOU : 0.08375 | Val Loss : 0.62934 | Val P.A : 99.00% | Val IOU : 0.07203 | Training Time : 92.97sec\n",
      "\n",
      "Epoch : 62 | Train Loss : 0.65825 | Train P.A : 99.21% | Train IOU : 0.08227 | Val Loss : 0.60079 | Val P.A : 99.08% | Val IOU : 0.07403 | Training Time : 93.74sec\n",
      "\n",
      "Epoch : 63 | Train Loss : 0.64784 | Train P.A : 99.19% | Train IOU : 0.08397 | Val Loss : 0.50853 | Val P.A : 99.09% | Val IOU : 0.07395 | Training Time : 93.23sec\n",
      "\n",
      "Epoch : 64 | Train Loss : 0.65853 | Train P.A : 99.19% | Train IOU : 0.08381 | Val Loss : 0.57364 | Val P.A : 99.09% | Val IOU : 0.07271 | Training Time : 93.05sec\n",
      "\n",
      "Epoch : 65 | Train Loss : 0.64270 | Train P.A : 99.22% | Train IOU : 0.08318 | Val Loss : 0.58346 | Val P.A : 99.11% | Val IOU : 0.07462 | Training Time : 94.26sec\n",
      "\n",
      "Epoch : 66 | Train Loss : 0.66579 | Train P.A : 99.19% | Train IOU : 0.08127 | Val Loss : 0.68217 | Val P.A : 99.07% | Val IOU : 0.07608 | Training Time : 93.00sec\n",
      "\n",
      "Epoch : 67 | Train Loss : 0.65707 | Train P.A : 99.17% | Train IOU : 0.08501 | Val Loss : 0.56096 | Val P.A : 99.08% | Val IOU : 0.07516 | Training Time : 93.24sec\n",
      "\n",
      "Epoch : 68 | Train Loss : 0.66508 | Train P.A : 99.14% | Train IOU : 0.08616 | Val Loss : 0.58841 | Val P.A : 99.06% | Val IOU : 0.07400 | Training Time : 93.68sec\n",
      "\n",
      "Epoch : 69 | Train Loss : 0.65266 | Train P.A : 99.16% | Train IOU : 0.08542 | Val Loss : 0.57274 | Val P.A : 99.05% | Val IOU : 0.07444 | Training Time : 93.53sec\n",
      "\n",
      "Epoch : 70 | Train Loss : 0.63890 | Train P.A : 99.17% | Train IOU : 0.08687 | Val Loss : 0.56184 | Val P.A : 99.10% | Val IOU : 0.07426 | Training Time : 93.88sec\n",
      "\n",
      "Epoch : 71 | Train Loss : 0.64843 | Train P.A : 99.17% | Train IOU : 0.08771 | Val Loss : 0.58658 | Val P.A : 99.06% | Val IOU : 0.07601 | Training Time : 93.15sec\n",
      "\n",
      "Epoch : 72 | Train Loss : 0.67107 | Train P.A : 99.14% | Train IOU : 0.08547 | Val Loss : 0.55767 | Val P.A : 99.08% | Val IOU : 0.07268 | Training Time : 92.46sec\n",
      "\n",
      "Epoch : 73 | "
     ]
    },
    {
     "ename": "KeyboardInterrupt",
     "evalue": "",
     "output_type": "error",
     "traceback": [
      "\u001b[0;31m---------------------------------------------------------------------------\u001b[0m",
      "\u001b[0;31mKeyboardInterrupt\u001b[0m                         Traceback (most recent call last)",
      "Cell \u001b[0;32mIn[12], line 1\u001b[0m\n\u001b[0;32m----> 1\u001b[0m trainer\u001b[39m.\u001b[39;49mtrain()\n",
      "File \u001b[0;32m~/Aiffel/segmentation/train.py:167\u001b[0m, in \u001b[0;36mTrainer.train\u001b[0;34m(self)\u001b[0m\n\u001b[1;32m    165\u001b[0m \u001b[39mprint\u001b[39m(\u001b[39mf\u001b[39m\u001b[39m'\u001b[39m\u001b[39m\\n\u001b[39;00m\u001b[39mEpoch : \u001b[39m\u001b[39m{\u001b[39;00mepoch\u001b[39m}\u001b[39;00m\u001b[39m | \u001b[39m\u001b[39m'\u001b[39m, end\u001b[39m=\u001b[39m\u001b[39m'\u001b[39m\u001b[39m'\u001b[39m)\n\u001b[1;32m    166\u001b[0m start_time \u001b[39m=\u001b[39m timer()\n\u001b[0;32m--> 167\u001b[0m \u001b[39mself\u001b[39;49m\u001b[39m.\u001b[39;49m_train_epoch(epoch)\n\u001b[1;32m    168\u001b[0m end_time \u001b[39m=\u001b[39m timer()\n\u001b[1;32m    169\u001b[0m \u001b[39mprint\u001b[39m(\u001b[39mf\u001b[39m\u001b[39m'\u001b[39m\u001b[39mTraining Time : \u001b[39m\u001b[39m{\u001b[39;00m(end_time\u001b[39m-\u001b[39mstart_time)\u001b[39m:\u001b[39;00m\u001b[39m.2f\u001b[39m\u001b[39m}\u001b[39;00m\u001b[39msec\u001b[39m\u001b[39m'\u001b[39m)\n",
      "File \u001b[0;32m~/Aiffel/segmentation/train.py:63\u001b[0m, in \u001b[0;36mTrainer._train_epoch\u001b[0;34m(self, epoch)\u001b[0m\n\u001b[1;32m     60\u001b[0m train_metric \u001b[39m=\u001b[39m {\u001b[39mf\u001b[39m\u001b[39m'\u001b[39m\u001b[39m{\u001b[39;00mmetric\u001b[39m.\u001b[39m\u001b[39m__name__\u001b[39m\u001b[39m}\u001b[39;00m\u001b[39m'\u001b[39m: [] \u001b[39mfor\u001b[39;00m metric \u001b[39min\u001b[39;00m \u001b[39mself\u001b[39m\u001b[39m.\u001b[39mmetric_fn}\n\u001b[1;32m     62\u001b[0m \u001b[39mself\u001b[39m\u001b[39m.\u001b[39mmodel\u001b[39m.\u001b[39mtrain()\n\u001b[0;32m---> 63\u001b[0m \u001b[39mfor\u001b[39;00m batch, data \u001b[39min\u001b[39;00m \u001b[39menumerate\u001b[39m(\u001b[39mself\u001b[39m\u001b[39m.\u001b[39mdata_loader):\n\u001b[1;32m     64\u001b[0m     x_train \u001b[39m=\u001b[39m data[\u001b[39m'\u001b[39m\u001b[39minput\u001b[39m\u001b[39m'\u001b[39m]\n\u001b[1;32m     65\u001b[0m     y_train \u001b[39m=\u001b[39m data[\u001b[39m'\u001b[39m\u001b[39mlabel\u001b[39m\u001b[39m'\u001b[39m]\n",
      "File \u001b[0;32m~/anaconda3/envs/Torch/lib/python3.10/site-packages/torch/utils/data/dataloader.py:628\u001b[0m, in \u001b[0;36m_BaseDataLoaderIter.__next__\u001b[0;34m(self)\u001b[0m\n\u001b[1;32m    625\u001b[0m \u001b[39mif\u001b[39;00m \u001b[39mself\u001b[39m\u001b[39m.\u001b[39m_sampler_iter \u001b[39mis\u001b[39;00m \u001b[39mNone\u001b[39;00m:\n\u001b[1;32m    626\u001b[0m     \u001b[39m# TODO(https://github.com/pytorch/pytorch/issues/76750)\u001b[39;00m\n\u001b[1;32m    627\u001b[0m     \u001b[39mself\u001b[39m\u001b[39m.\u001b[39m_reset()  \u001b[39m# type: ignore[call-arg]\u001b[39;00m\n\u001b[0;32m--> 628\u001b[0m data \u001b[39m=\u001b[39m \u001b[39mself\u001b[39;49m\u001b[39m.\u001b[39;49m_next_data()\n\u001b[1;32m    629\u001b[0m \u001b[39mself\u001b[39m\u001b[39m.\u001b[39m_num_yielded \u001b[39m+\u001b[39m\u001b[39m=\u001b[39m \u001b[39m1\u001b[39m\n\u001b[1;32m    630\u001b[0m \u001b[39mif\u001b[39;00m \u001b[39mself\u001b[39m\u001b[39m.\u001b[39m_dataset_kind \u001b[39m==\u001b[39m _DatasetKind\u001b[39m.\u001b[39mIterable \u001b[39mand\u001b[39;00m \\\n\u001b[1;32m    631\u001b[0m         \u001b[39mself\u001b[39m\u001b[39m.\u001b[39m_IterableDataset_len_called \u001b[39mis\u001b[39;00m \u001b[39mnot\u001b[39;00m \u001b[39mNone\u001b[39;00m \u001b[39mand\u001b[39;00m \\\n\u001b[1;32m    632\u001b[0m         \u001b[39mself\u001b[39m\u001b[39m.\u001b[39m_num_yielded \u001b[39m>\u001b[39m \u001b[39mself\u001b[39m\u001b[39m.\u001b[39m_IterableDataset_len_called:\n",
      "File \u001b[0;32m~/anaconda3/envs/Torch/lib/python3.10/site-packages/torch/utils/data/dataloader.py:671\u001b[0m, in \u001b[0;36m_SingleProcessDataLoaderIter._next_data\u001b[0;34m(self)\u001b[0m\n\u001b[1;32m    669\u001b[0m \u001b[39mdef\u001b[39;00m \u001b[39m_next_data\u001b[39m(\u001b[39mself\u001b[39m):\n\u001b[1;32m    670\u001b[0m     index \u001b[39m=\u001b[39m \u001b[39mself\u001b[39m\u001b[39m.\u001b[39m_next_index()  \u001b[39m# may raise StopIteration\u001b[39;00m\n\u001b[0;32m--> 671\u001b[0m     data \u001b[39m=\u001b[39m \u001b[39mself\u001b[39;49m\u001b[39m.\u001b[39;49m_dataset_fetcher\u001b[39m.\u001b[39;49mfetch(index)  \u001b[39m# may raise StopIteration\u001b[39;00m\n\u001b[1;32m    672\u001b[0m     \u001b[39mif\u001b[39;00m \u001b[39mself\u001b[39m\u001b[39m.\u001b[39m_pin_memory:\n\u001b[1;32m    673\u001b[0m         data \u001b[39m=\u001b[39m _utils\u001b[39m.\u001b[39mpin_memory\u001b[39m.\u001b[39mpin_memory(data, \u001b[39mself\u001b[39m\u001b[39m.\u001b[39m_pin_memory_device)\n",
      "File \u001b[0;32m~/anaconda3/envs/Torch/lib/python3.10/site-packages/torch/utils/data/_utils/fetch.py:58\u001b[0m, in \u001b[0;36m_MapDatasetFetcher.fetch\u001b[0;34m(self, possibly_batched_index)\u001b[0m\n\u001b[1;32m     56\u001b[0m         data \u001b[39m=\u001b[39m \u001b[39mself\u001b[39m\u001b[39m.\u001b[39mdataset\u001b[39m.\u001b[39m__getitems__(possibly_batched_index)\n\u001b[1;32m     57\u001b[0m     \u001b[39melse\u001b[39;00m:\n\u001b[0;32m---> 58\u001b[0m         data \u001b[39m=\u001b[39m [\u001b[39mself\u001b[39m\u001b[39m.\u001b[39mdataset[idx] \u001b[39mfor\u001b[39;00m idx \u001b[39min\u001b[39;00m possibly_batched_index]\n\u001b[1;32m     59\u001b[0m \u001b[39melse\u001b[39;00m:\n\u001b[1;32m     60\u001b[0m     data \u001b[39m=\u001b[39m \u001b[39mself\u001b[39m\u001b[39m.\u001b[39mdataset[possibly_batched_index]\n",
      "File \u001b[0;32m~/anaconda3/envs/Torch/lib/python3.10/site-packages/torch/utils/data/_utils/fetch.py:58\u001b[0m, in \u001b[0;36m<listcomp>\u001b[0;34m(.0)\u001b[0m\n\u001b[1;32m     56\u001b[0m         data \u001b[39m=\u001b[39m \u001b[39mself\u001b[39m\u001b[39m.\u001b[39mdataset\u001b[39m.\u001b[39m__getitems__(possibly_batched_index)\n\u001b[1;32m     57\u001b[0m     \u001b[39melse\u001b[39;00m:\n\u001b[0;32m---> 58\u001b[0m         data \u001b[39m=\u001b[39m [\u001b[39mself\u001b[39;49m\u001b[39m.\u001b[39;49mdataset[idx] \u001b[39mfor\u001b[39;00m idx \u001b[39min\u001b[39;00m possibly_batched_index]\n\u001b[1;32m     59\u001b[0m \u001b[39melse\u001b[39;00m:\n\u001b[1;32m     60\u001b[0m     data \u001b[39m=\u001b[39m \u001b[39mself\u001b[39m\u001b[39m.\u001b[39mdataset[possibly_batched_index]\n",
      "File \u001b[0;32m~/Aiffel/segmentation/data_loader/dataloader.py:45\u001b[0m, in \u001b[0;36mCustom_dataset.__getitem__\u001b[0;34m(self, index)\u001b[0m\n\u001b[1;32m     43\u001b[0m \u001b[39mdef\u001b[39;00m \u001b[39m__getitem__\u001b[39m(\u001b[39mself\u001b[39m, index: \u001b[39mint\u001b[39m):\n\u001b[1;32m     44\u001b[0m     name \u001b[39m=\u001b[39m \u001b[39mself\u001b[39m\u001b[39m.\u001b[39mlst_image[index]\u001b[39m.\u001b[39msplit(\u001b[39m'\u001b[39m\u001b[39m.\u001b[39m\u001b[39m'\u001b[39m)[\u001b[39m0\u001b[39m]\n\u001b[0;32m---> 45\u001b[0m     image \u001b[39m=\u001b[39m np\u001b[39m.\u001b[39;49marray(Image\u001b[39m.\u001b[39;49mopen(glob\u001b[39m.\u001b[39;49mglob(\u001b[39mself\u001b[39;49m\u001b[39m.\u001b[39;49mimage_dir \u001b[39m+\u001b[39;49m \u001b[39mf\u001b[39;49m\u001b[39m'\u001b[39;49m\u001b[39m/\u001b[39;49m\u001b[39m{\u001b[39;49;00mname\u001b[39m}\u001b[39;49;00m\u001b[39m*\u001b[39;49m\u001b[39m'\u001b[39;49m)[\u001b[39m0\u001b[39;49m]))\u001b[39m.\u001b[39mastype(\u001b[39m'\u001b[39m\u001b[39muint8\u001b[39m\u001b[39m'\u001b[39m)\n\u001b[1;32m     46\u001b[0m     label \u001b[39m=\u001b[39m Image\u001b[39m.\u001b[39mopen(glob\u001b[39m.\u001b[39mglob(\u001b[39mself\u001b[39m\u001b[39m.\u001b[39mlabel_dir \u001b[39m+\u001b[39m \u001b[39mf\u001b[39m\u001b[39m'\u001b[39m\u001b[39m/\u001b[39m\u001b[39m{\u001b[39;00mname\u001b[39m}\u001b[39;00m\u001b[39m*\u001b[39m\u001b[39m'\u001b[39m)[\u001b[39m0\u001b[39m])\n\u001b[1;32m     47\u001b[0m     label \u001b[39m=\u001b[39m (np\u001b[39m.\u001b[39marray(label\u001b[39m.\u001b[39mconvert(\u001b[39m'\u001b[39m\u001b[39mL\u001b[39m\u001b[39m'\u001b[39m)) \u001b[39m!=\u001b[39m \u001b[39m0\u001b[39m)\u001b[39m.\u001b[39mastype(\u001b[39m'\u001b[39m\u001b[39muint8\u001b[39m\u001b[39m'\u001b[39m)\n",
      "File \u001b[0;32m~/anaconda3/envs/Torch/lib/python3.10/site-packages/PIL/Image.py:687\u001b[0m, in \u001b[0;36mImage.__array_interface__\u001b[0;34m(self)\u001b[0m\n\u001b[1;32m    685\u001b[0m     new[\u001b[39m\"\u001b[39m\u001b[39mdata\u001b[39m\u001b[39m\"\u001b[39m] \u001b[39m=\u001b[39m \u001b[39mself\u001b[39m\u001b[39m.\u001b[39mtobytes(\u001b[39m\"\u001b[39m\u001b[39mraw\u001b[39m\u001b[39m\"\u001b[39m, \u001b[39m\"\u001b[39m\u001b[39mL\u001b[39m\u001b[39m\"\u001b[39m)\n\u001b[1;32m    686\u001b[0m \u001b[39melse\u001b[39;00m:\n\u001b[0;32m--> 687\u001b[0m     new[\u001b[39m\"\u001b[39m\u001b[39mdata\u001b[39m\u001b[39m\"\u001b[39m] \u001b[39m=\u001b[39m \u001b[39mself\u001b[39;49m\u001b[39m.\u001b[39;49mtobytes()\n\u001b[1;32m    688\u001b[0m \u001b[39mreturn\u001b[39;00m new\n",
      "File \u001b[0;32m~/anaconda3/envs/Torch/lib/python3.10/site-packages/PIL/Image.py:729\u001b[0m, in \u001b[0;36mImage.tobytes\u001b[0;34m(self, encoder_name, *args)\u001b[0m\n\u001b[1;32m    726\u001b[0m \u001b[39mif\u001b[39;00m encoder_name \u001b[39m==\u001b[39m \u001b[39m\"\u001b[39m\u001b[39mraw\u001b[39m\u001b[39m\"\u001b[39m \u001b[39mand\u001b[39;00m args \u001b[39m==\u001b[39m ():\n\u001b[1;32m    727\u001b[0m     args \u001b[39m=\u001b[39m \u001b[39mself\u001b[39m\u001b[39m.\u001b[39mmode\n\u001b[0;32m--> 729\u001b[0m \u001b[39mself\u001b[39;49m\u001b[39m.\u001b[39;49mload()\n\u001b[1;32m    731\u001b[0m \u001b[39mif\u001b[39;00m \u001b[39mself\u001b[39m\u001b[39m.\u001b[39mwidth \u001b[39m==\u001b[39m \u001b[39m0\u001b[39m \u001b[39mor\u001b[39;00m \u001b[39mself\u001b[39m\u001b[39m.\u001b[39mheight \u001b[39m==\u001b[39m \u001b[39m0\u001b[39m:\n\u001b[1;32m    732\u001b[0m     \u001b[39mreturn\u001b[39;00m \u001b[39mb\u001b[39m\u001b[39m\"\u001b[39m\u001b[39m\"\u001b[39m\n",
      "File \u001b[0;32m~/anaconda3/envs/Torch/lib/python3.10/site-packages/PIL/ImageFile.py:257\u001b[0m, in \u001b[0;36mImageFile.load\u001b[0;34m(self)\u001b[0m\n\u001b[1;32m    251\u001b[0m         \u001b[39mraise\u001b[39;00m \u001b[39mOSError\u001b[39;00m(\n\u001b[1;32m    252\u001b[0m             \u001b[39m\"\u001b[39m\u001b[39mimage file is truncated \u001b[39m\u001b[39m\"\u001b[39m\n\u001b[1;32m    253\u001b[0m             \u001b[39mf\u001b[39m\u001b[39m\"\u001b[39m\u001b[39m(\u001b[39m\u001b[39m{\u001b[39;00m\u001b[39mlen\u001b[39m(b)\u001b[39m}\u001b[39;00m\u001b[39m bytes not processed)\u001b[39m\u001b[39m\"\u001b[39m\n\u001b[1;32m    254\u001b[0m         )\n\u001b[1;32m    256\u001b[0m b \u001b[39m=\u001b[39m b \u001b[39m+\u001b[39m s\n\u001b[0;32m--> 257\u001b[0m n, err_code \u001b[39m=\u001b[39m decoder\u001b[39m.\u001b[39;49mdecode(b)\n\u001b[1;32m    258\u001b[0m \u001b[39mif\u001b[39;00m n \u001b[39m<\u001b[39m \u001b[39m0\u001b[39m:\n\u001b[1;32m    259\u001b[0m     \u001b[39mbreak\u001b[39;00m\n",
      "\u001b[0;31mKeyboardInterrupt\u001b[0m: "
     ]
    }
   ],
   "source": [
    "trainer.train()"
   ]
  },
  {
   "cell_type": "code",
   "execution_count": null,
   "metadata": {},
   "outputs": [],
   "source": []
  }
 ],
 "metadata": {
  "kernelspec": {
   "display_name": "Torch",
   "language": "python",
   "name": "python3"
  },
  "language_info": {
   "codemirror_mode": {
    "name": "ipython",
    "version": 3
   },
   "file_extension": ".py",
   "mimetype": "text/x-python",
   "name": "python",
   "nbconvert_exporter": "python",
   "pygments_lexer": "ipython3",
   "version": "3.10.8"
  },
  "orig_nbformat": 4,
  "vscode": {
   "interpreter": {
    "hash": "867dcab57263476bc7cd24a738863ae113fd3e5f85bcd4c9da88727adae00323"
   }
  }
 },
 "nbformat": 4,
 "nbformat_minor": 2
}
