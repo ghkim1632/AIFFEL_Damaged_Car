{
 "cells": [
  {
   "cell_type": "code",
   "execution_count": 13,
   "metadata": {},
   "outputs": [],
   "source": [
    "import sys\n",
    "sys.path.append('../')"
   ]
  },
  {
   "cell_type": "code",
   "execution_count": 14,
   "metadata": {},
   "outputs": [],
   "source": [
    "import os, glob, random, cv2\n",
    "import wandb\n",
    "import torch\n",
    "import torch.nn as nn\n",
    "import torch.nn.functional as F\n",
    "import torch.optim as optim\n",
    "\n",
    "import albumentations as A\n",
    "import segmentation_models_pytorch as smp\n",
    "import model.metric as module_metric\n",
    "\n",
    "from data_loader.dataloader import get_dataloader\n",
    "from utils.data import get_datasize\n",
    "from utils.visual import *\n",
    "from albumentations.pytorch import transforms\n",
    "from model.loss import *\n",
    "from train import *\n",
    "from pathlib import Path"
   ]
  },
  {
   "cell_type": "code",
   "execution_count": 15,
   "metadata": {},
   "outputs": [],
   "source": [
    "SEED = 42\n",
    "torch.manual_seed(SEED)\n",
    "torch.cuda.manual_seed(SEED)\n",
    "torch.backends.cudnn.deterministic = True\n",
    "torch.backends.cudnn.benchmark = False\n",
    "np.random.seed(SEED)"
   ]
  },
  {
   "cell_type": "code",
   "execution_count": 16,
   "metadata": {},
   "outputs": [],
   "source": [
    "device = 'cuda:0' if torch.cuda.is_available() else 'cpu'\n",
    "\n",
    "lr = 1e-3\n",
    "batch_size = 4\n",
    "num_epoch = 100\n",
    "refined = 'refined'\n",
    "\n",
    "train_dir = f'./dataset/{refined}/crushed/train/'\n",
    "val_dir = f'./dataset/{refined}/crushed/val/'"
   ]
  },
  {
   "cell_type": "code",
   "execution_count": 17,
   "metadata": {},
   "outputs": [],
   "source": [
    "transform_train = A.Compose([\n",
    "    A.Normalize(mean = 0.5, std=0.5),\n",
    "    A.HorizontalFlip(),\n",
    "    A.Rotate((-10, 10), p=0.5, border_mode=cv2.BORDER_REFLECT,),\n",
    "    A.Resize(512, 512),\n",
    "    transforms.ToTensorV2(transpose_mask=True)\n",
    "])\n",
    "\n",
    "transform_val = A.Compose([\n",
    "    A.Normalize(mean = 0.5, std=0.5),\n",
    "    A.Resize(512, 512),\n",
    "    transforms.ToTensorV2(transpose_mask=True)\n",
    "])"
   ]
  },
  {
   "cell_type": "code",
   "execution_count": 18,
   "metadata": {},
   "outputs": [],
   "source": [
    "train_dataloader = get_dataloader(train_dir, transform_train, batch_size)\n",
    "val_dataloader = get_dataloader(val_dir, transform_val, batch_size)"
   ]
  },
  {
   "cell_type": "code",
   "execution_count": 19,
   "metadata": {},
   "outputs": [],
   "source": [
    "model = smp.Unet(encoder_name='efficientnet-b0', encoder_weights='imagenet', in_channels=3, classes=1, activation=None)\n",
    "model = model.to(device)"
   ]
  },
  {
   "cell_type": "code",
   "execution_count": 20,
   "metadata": {},
   "outputs": [],
   "source": [
    "criterion = FocalTverskyLoss().to(device)\n",
    "optimizer = optim.Adam(model.parameters(), lr=lr, weight_decay=1e-5)\n",
    "scheduler = optim.lr_scheduler.ReduceLROnPlateau(optimizer=optimizer, mode='min', factor=0.1, patience=5, min_lr=1e-6)\n",
    "metrics = [getattr(module_metric, met) for met in ['IOUscore', 'PixelAccuracy']]"
   ]
  },
  {
   "cell_type": "code",
   "execution_count": 21,
   "metadata": {},
   "outputs": [],
   "source": [
    "train_config = {}\n",
    "train_config['Batch size'] = batch_size\n",
    "train_config['Learning Rate'] = lr\n",
    "train_config['Epochs'] = num_epoch\n",
    "\n",
    "train_config['Loss fn'] = criterion.__class__.__name__\n",
    "train_config['Optimizer'] = optimizer.__class__.__name__\n",
    "train_config['LR Scheduler'] = scheduler.__class__.__name__\n",
    "train_config['Metric'] = {str(idx+1) : metric for idx, metric in enumerate([metrics[i].__name__ for i in range(len(metrics))])}\n"
   ]
  },
  {
   "cell_type": "code",
   "execution_count": 22,
   "metadata": {},
   "outputs": [],
   "source": [
    "save_dir = f\"./saved/U-Net/{model.__dict__['name'].split('-')[1:][0].capitalize()}_Ver0/{refined}\"\n",
    "\n",
    "trainer = Trainer(model, criterion, metrics, optimizer, device, num_epoch, save_dir,\n",
    "                                  data_loader=train_dataloader, valid_data_loader=val_dataloader,\n",
    "                                  lr_scheduler=scheduler)"
   ]
  },
  {
   "cell_type": "code",
   "execution_count": 23,
   "metadata": {},
   "outputs": [
    {
     "data": {
      "text/html": [
       "wandb version 0.13.8 is available!  To upgrade, please run:\n",
       " $ pip install wandb --upgrade"
      ],
      "text/plain": [
       "<IPython.core.display.HTML object>"
      ]
     },
     "metadata": {},
     "output_type": "display_data"
    },
    {
     "data": {
      "text/html": [
       "Tracking run with wandb version 0.13.6"
      ],
      "text/plain": [
       "<IPython.core.display.HTML object>"
      ]
     },
     "metadata": {},
     "output_type": "display_data"
    },
    {
     "data": {
      "text/html": [
       "Run data is saved locally in <code>/home/imlim/Aiffel/segmentation/wandb/run-20230113_010609-1see2n40</code>"
      ],
      "text/plain": [
       "<IPython.core.display.HTML object>"
      ]
     },
     "metadata": {},
     "output_type": "display_data"
    },
    {
     "data": {
      "text/html": [
       "Syncing run <strong><a href=\"https://wandb.ai/imlim/U_Net/runs/1see2n40\" target=\"_blank\">U-efficientnet-b0_refined_ver</a></strong> to <a href=\"https://wandb.ai/imlim/U_Net\" target=\"_blank\">Weights & Biases</a> (<a href=\"https://wandb.me/run\" target=\"_blank\">docs</a>)<br/>"
      ],
      "text/plain": [
       "<IPython.core.display.HTML object>"
      ]
     },
     "metadata": {},
     "output_type": "display_data"
    },
    {
     "data": {
      "text/html": [
       "<button onClick=\"this.nextSibling.style.display='block';this.style.display='none';\">Display W&B run</button><iframe src=\"https://wandb.ai/imlim/U_Net/runs/1see2n40?jupyter=true\" style=\"border:none;width:100%;height:420px;display:none;\"></iframe>"
      ],
      "text/plain": [
       "<wandb.sdk.wandb_run.Run at 0x7f5fbc218580>"
      ]
     },
     "execution_count": 23,
     "metadata": {},
     "output_type": "execute_result"
    }
   ],
   "source": [
    "wandb.init(project='U_Net', name=f\"{model.__dict__['name'].capitalize()}_{refined}_ver\", config=train_config)"
   ]
  },
  {
   "cell_type": "code",
   "execution_count": 24,
   "metadata": {},
   "outputs": [
    {
     "name": "stdout",
     "output_type": "stream",
     "text": [
      "\n",
      "Epoch : 0 | Train Loss : 0.83497 | Train P.A : 90.75% | Train IOU : 0.24143 | Val Loss : 0.82098 | Val P.A : 96.99% | Val IOU : 0.07151 | Training Time : 75.46sec\n",
      "\n",
      "Epoch : 1 | Train Loss : 0.71411 | Train P.A : 97.65% | Train IOU : 0.37245 | Val Loss : 0.78425 | Val P.A : 93.93% | Val IOU : 0.11123 | Training Time : 73.57sec\n",
      "\n",
      "Epoch : 2 | Train Loss : 0.69312 | Train P.A : 97.65% | Train IOU : 0.39127 | Val Loss : 0.77873 | Val P.A : 90.34% | Val IOU : 0.11555 | Training Time : 74.75sec\n",
      "\n",
      "Epoch : 3 | Train Loss : 0.65383 | Train P.A : 97.99% | Train IOU : 0.40137 | Val Loss : 0.73227 | Val P.A : 97.45% | Val IOU : 0.13866 | Training Time : 74.20sec\n",
      "\n",
      "Epoch : 4 | Train Loss : 0.65098 | Train P.A : 98.04% | Train IOU : 0.41992 | Val Loss : 0.67581 | Val P.A : 97.18% | Val IOU : 0.16277 | Training Time : 72.02sec\n",
      "\n",
      "Epoch : 5 | Train Loss : 0.64741 | Train P.A : 98.04% | Train IOU : 0.40619 | Val Loss : 0.79494 | Val P.A : 97.67% | Val IOU : 0.10582 | Training Time : 72.68sec\n",
      "\n",
      "Epoch : 6 | Train Loss : 0.63460 | Train P.A : 98.17% | Train IOU : 0.43339 | Val Loss : 0.69143 | Val P.A : 97.54% | Val IOU : 0.15784 | Training Time : 72.08sec\n",
      "\n",
      "Epoch : 7 | Train Loss : 0.60001 | Train P.A : 98.29% | Train IOU : 0.43425 | Val Loss : 0.64189 | Val P.A : 96.54% | Val IOU : 0.19572 | Training Time : 71.85sec\n",
      "\n",
      "Epoch : 8 | Train Loss : 0.59414 | Train P.A : 98.33% | Train IOU : 0.44500 | Val Loss : 0.70228 | Val P.A : 97.63% | Val IOU : 0.14128 | Training Time : 71.61sec\n",
      "\n",
      "Epoch : 9 | Train Loss : 0.59558 | Train P.A : 98.34% | Train IOU : 0.44002 | Val Loss : 0.68020 | Val P.A : 97.56% | Val IOU : 0.17638 | Training Time : 72.58sec\n",
      "\n",
      "Epoch : 10 | Train Loss : 0.58625 | Train P.A : 98.31% | Train IOU : 0.43253 | Val Loss : 0.74375 | Val P.A : 97.88% | Val IOU : 0.14292 | Training Time : 74.65sec\n",
      "\n",
      "Epoch : 11 | Train Loss : 0.58627 | Train P.A : 98.42% | Train IOU : 0.45102 | Val Loss : 0.68754 | Val P.A : 96.94% | Val IOU : 0.16230 | Training Time : 74.26sec\n",
      "\n",
      "Epoch : 12 | Train Loss : 0.59379 | Train P.A : 98.41% | Train IOU : 0.44196 | Val Loss : 0.61640 | Val P.A : 97.56% | Val IOU : 0.20584 | Training Time : 71.59sec\n",
      "\n",
      "Epoch : 13 | Train Loss : 0.55466 | Train P.A : 98.53% | Train IOU : 0.46481 | Val Loss : 0.75202 | Val P.A : 97.90% | Val IOU : 0.14427 | Training Time : 73.20sec\n",
      "\n",
      "Epoch : 14 | Train Loss : 0.54761 | Train P.A : 98.52% | Train IOU : 0.46158 | Val Loss : 0.66182 | Val P.A : 97.83% | Val IOU : 0.18343 | Training Time : 73.35sec\n",
      "\n",
      "Epoch : 15 | Train Loss : 0.57536 | Train P.A : 98.48% | Train IOU : 0.45180 | Val Loss : 0.99516 | Val P.A : 97.75% | Val IOU : 0.00126 | Training Time : 73.89sec\n",
      "\n",
      "Epoch : 16 | Train Loss : 0.56980 | Train P.A : 98.44% | Train IOU : 0.46410 | Val Loss : 0.59432 | Val P.A : 97.49% | Val IOU : 0.20255 | Training Time : 73.59sec\n",
      "\n",
      "Epoch : 17 | Train Loss : 0.56182 | Train P.A : 98.52% | Train IOU : 0.46534 | Val Loss : 0.64979 | Val P.A : 97.62% | Val IOU : 0.18690 | Training Time : 75.01sec\n",
      "\n",
      "Epoch : 18 | Train Loss : 0.57062 | Train P.A : 98.50% | Train IOU : 0.46918 | Val Loss : 0.65461 | Val P.A : 97.84% | Val IOU : 0.20751 | Training Time : 74.47sec\n",
      "\n",
      "Epoch : 19 | Train Loss : 0.53459 | Train P.A : 98.59% | Train IOU : 0.47155 | Val Loss : 0.64269 | Val P.A : 97.19% | Val IOU : 0.18612 | Training Time : 74.95sec\n",
      "\n",
      "Epoch : 20 | Train Loss : 0.54142 | Train P.A : 98.57% | Train IOU : 0.47269 | Val Loss : 0.60535 | Val P.A : 97.79% | Val IOU : 0.19521 | Training Time : 72.17sec\n",
      "\n",
      "Epoch : 21 | Train Loss : 0.51497 | Train P.A : 98.64% | Train IOU : 0.50353 | Val Loss : 0.65425 | Val P.A : 97.87% | Val IOU : 0.18841 | Training Time : 74.33sec\n",
      "\n",
      "Epoch : 22 | Train Loss : 0.53867 | Train P.A : 98.59% | Train IOU : 0.47516 | Val Loss : 0.62043 | Val P.A : 97.32% | Val IOU : 0.21395 | Training Time : 75.02sec\n",
      "\n",
      "Epoch : 23 | Train Loss : 0.48652 | Train P.A : 98.77% | Train IOU : 0.52809 | Val Loss : 0.59197 | Val P.A : 97.75% | Val IOU : 0.22214 | Training Time : 73.08sec\n",
      "\n",
      "Epoch : 24 | Train Loss : 0.47618 | Train P.A : 98.80% | Train IOU : 0.52793 | Val Loss : 0.62269 | Val P.A : 97.90% | Val IOU : 0.21962 | Training Time : 74.97sec\n",
      "\n",
      "Epoch : 25 | Train Loss : 0.48162 | Train P.A : 98.79% | Train IOU : 0.52789 | Val Loss : 0.60661 | Val P.A : 97.91% | Val IOU : 0.21911 | Training Time : 72.13sec\n",
      "\n",
      "Epoch : 26 | Train Loss : 0.47300 | Train P.A : 98.80% | Train IOU : 0.52507 | Val Loss : 0.60248 | Val P.A : 97.88% | Val IOU : 0.21772 | Training Time : 72.32sec\n",
      "\n",
      "Epoch : 27 | Train Loss : 0.45483 | Train P.A : 98.85% | Train IOU : 0.53361 | Val Loss : 0.62886 | Val P.A : 97.91% | Val IOU : 0.21868 | Training Time : 73.74sec\n",
      "\n",
      "Epoch : 28 | Train Loss : 0.46617 | Train P.A : 98.86% | Train IOU : 0.53772 | Val Loss : 0.60071 | Val P.A : 97.92% | Val IOU : 0.21456 | Training Time : 75.46sec\n",
      "\n",
      "Epoch : 29 | Train Loss : 0.44303 | Train P.A : 98.87% | Train IOU : 0.55285 | Val Loss : 0.60248 | Val P.A : 97.92% | Val IOU : 0.21860 | Training Time : 74.22sec\n",
      "\n",
      "Epoch : 30 | Train Loss : 0.45208 | Train P.A : 98.85% | Train IOU : 0.53311 | Val Loss : 0.59287 | Val P.A : 97.92% | Val IOU : 0.22232 | Training Time : 72.80sec\n",
      "\n",
      "Epoch : 31 | Train Loss : 0.47421 | Train P.A : 98.83% | Train IOU : 0.51253 | Val Loss : 0.58071 | Val P.A : 97.92% | Val IOU : 0.22545 | Training Time : 73.53sec\n",
      "\n",
      "Epoch : 32 | Train Loss : 0.44858 | Train P.A : 98.87% | Train IOU : 0.53185 | Val Loss : 0.59920 | Val P.A : 97.93% | Val IOU : 0.22229 | Training Time : 73.36sec\n",
      "\n",
      "Epoch : 33 | Train Loss : 0.43164 | Train P.A : 98.92% | Train IOU : 0.54419 | Val Loss : 0.60226 | Val P.A : 97.96% | Val IOU : 0.21883 | Training Time : 72.46sec\n",
      "\n",
      "Epoch : 34 | Train Loss : 0.44926 | Train P.A : 98.91% | Train IOU : 0.52979 | Val Loss : 0.60367 | Val P.A : 97.93% | Val IOU : 0.22404 | Training Time : 72.91sec\n",
      "\n",
      "Epoch : 35 | Train Loss : 0.44628 | Train P.A : 98.91% | Train IOU : 0.53165 | Val Loss : 0.58916 | Val P.A : 97.96% | Val IOU : 0.22027 | Training Time : 74.17sec\n",
      "\n",
      "Epoch : 36 | Train Loss : 0.43579 | Train P.A : 98.91% | Train IOU : 0.55912 | Val Loss : 0.60605 | Val P.A : 97.96% | Val IOU : 0.22352 | Training Time : 71.89sec\n",
      "\n",
      "Epoch : 37 | Train Loss : 0.44418 | Train P.A : 98.88% | Train IOU : 0.52613 | Val Loss : 0.59031 | Val P.A : 97.95% | Val IOU : 0.22641 | Training Time : 72.37sec\n",
      "\n",
      "Epoch : 38 | Train Loss : 0.44665 | Train P.A : 98.89% | Train IOU : 0.52880 | Val Loss : 0.62661 | Val P.A : 97.97% | Val IOU : 0.22232 | Training Time : 74.55sec\n",
      "\n",
      "Epoch : 39 | Train Loss : 0.46055 | Train P.A : 98.85% | Train IOU : 0.50709 | Val Loss : 0.59947 | Val P.A : 97.96% | Val IOU : 0.22519 | Training Time : 74.94sec\n",
      "\n",
      "Epoch : 40 | Train Loss : 0.43123 | Train P.A : 98.91% | Train IOU : 0.53519 | Val Loss : 0.59207 | Val P.A : 97.96% | Val IOU : 0.22426 | Training Time : 73.59sec\n",
      "\n",
      "Epoch : 41 | Train Loss : 0.42570 | Train P.A : 98.91% | Train IOU : 0.54754 | Val Loss : 0.56951 | Val P.A : 97.93% | Val IOU : 0.22752 | Training Time : 71.78sec\n",
      "\n",
      "Epoch : 42 | Train Loss : 0.45015 | Train P.A : 98.90% | Train IOU : 0.51922 | Val Loss : 0.58802 | Val P.A : 97.94% | Val IOU : 0.22581 | Training Time : 73.08sec\n",
      "\n",
      "Epoch : 43 | Train Loss : 0.44077 | Train P.A : 98.91% | Train IOU : 0.53962 | Val Loss : 0.57935 | Val P.A : 97.95% | Val IOU : 0.22622 | Training Time : 71.56sec\n",
      "\n",
      "Epoch : 44 | Train Loss : 0.47479 | Train P.A : 98.83% | Train IOU : 0.50249 | Val Loss : 0.59596 | Val P.A : 97.93% | Val IOU : 0.22861 | Training Time : 72.99sec\n",
      "\n",
      "Epoch : 45 | Train Loss : 0.43962 | Train P.A : 98.91% | Train IOU : 0.54012 | Val Loss : 0.62910 | Val P.A : 97.96% | Val IOU : 0.22459 | Training Time : 74.28sec\n",
      "\n",
      "Epoch : 46 | Train Loss : 0.44263 | Train P.A : 98.89% | Train IOU : 0.55184 | Val Loss : 0.62342 | Val P.A : 97.94% | Val IOU : 0.22590 | Training Time : 73.73sec\n",
      "\n",
      "Epoch : 47 | Train Loss : 0.42787 | Train P.A : 98.94% | Train IOU : 0.55034 | Val Loss : 0.58156 | Val P.A : 97.95% | Val IOU : 0.22705 | Training Time : 73.59sec\n",
      "\n",
      "Epoch : 48 | Train Loss : 0.44351 | Train P.A : 98.89% | Train IOU : 0.52172 | Val Loss : 0.59165 | Val P.A : 97.96% | Val IOU : 0.22435 | Training Time : 73.59sec\n",
      "\n",
      "Epoch : 49 | Train Loss : 0.44879 | Train P.A : 98.86% | Train IOU : 0.52071 | Val Loss : 0.59619 | Val P.A : 97.96% | Val IOU : 0.22328 | Training Time : 72.81sec\n",
      "\n",
      "Epoch : 50 | Train Loss : 0.43822 | Train P.A : 98.89% | Train IOU : 0.53770 | Val Loss : 0.59108 | Val P.A : 97.96% | Val IOU : 0.22384 | Training Time : 74.08sec\n",
      "\n",
      "Epoch : 51 | Train Loss : 0.44713 | Train P.A : 98.88% | Train IOU : 0.51875 | Val Loss : 0.59626 | Val P.A : 97.95% | Val IOU : 0.22550 | Training Time : 74.50sec\n",
      "\n",
      "Epoch : 52 | Train Loss : 0.44474 | Train P.A : 98.90% | Train IOU : 0.53618 | Val Loss : 0.59950 | Val P.A : 97.94% | Val IOU : 0.22510 | Training Time : 73.38sec\n",
      "\n",
      "Epoch : 53 | Train Loss : 0.43157 | Train P.A : 98.92% | Train IOU : 0.53872 | Val Loss : 0.60916 | Val P.A : 97.95% | Val IOU : 0.22401 | Training Time : 73.29sec\n",
      "\n",
      "Epoch : 54 | Train Loss : 0.43261 | Train P.A : 98.93% | Train IOU : 0.53784 | Val Loss : 0.60963 | Val P.A : 97.95% | Val IOU : 0.22489 | Training Time : 71.90sec\n",
      "\n",
      "Epoch : 55 | Train Loss : 0.43498 | Train P.A : 98.91% | Train IOU : 0.54735 | Val Loss : 0.61635 | Val P.A : 97.96% | Val IOU : 0.22206 | Training Time : 74.21sec\n",
      "\n",
      "Epoch : 56 | Train Loss : 0.44539 | Train P.A : 98.88% | Train IOU : 0.54115 | Val Loss : 0.60701 | Val P.A : 97.96% | Val IOU : 0.22018 | Training Time : 74.14sec\n",
      "\n",
      "Epoch : 57 | Train Loss : 0.43544 | Train P.A : 98.93% | Train IOU : 0.54676 | Val Loss : 0.59149 | Val P.A : 97.96% | Val IOU : 0.22305 | Training Time : 73.57sec\n",
      "\n",
      "Epoch : 58 | Train Loss : 0.45994 | Train P.A : 98.85% | Train IOU : 0.51566 | Val Loss : 0.59602 | Val P.A : 97.95% | Val IOU : 0.22348 | Training Time : 74.05sec\n",
      "\n",
      "Epoch : 59 | Train Loss : 0.43839 | Train P.A : 98.88% | Train IOU : 0.54203 | Val Loss : 0.60913 | Val P.A : 97.94% | Val IOU : 0.22443 | Training Time : 72.67sec\n",
      "\n",
      "Epoch : 60 | Train Loss : 0.45949 | Train P.A : 98.87% | Train IOU : 0.51943 | Val Loss : 0.61083 | Val P.A : 97.95% | Val IOU : 0.22583 | Training Time : 72.78sec\n",
      "\n",
      "Epoch : 61 | Train Loss : 0.45149 | Train P.A : 98.89% | Train IOU : 0.53739 | Val Loss : 0.59920 | Val P.A : 97.94% | Val IOU : 0.22700 | Training Time : 74.08sec\n",
      "\n",
      "Epoch : 62 | Train Loss : 0.44076 | Train P.A : 98.93% | Train IOU : 0.55437 | Val Loss : 0.58262 | Val P.A : 97.95% | Val IOU : 0.22332 | Training Time : 73.15sec\n",
      "\n",
      "Epoch : 63 | Train Loss : 0.43204 | Train P.A : 98.91% | Train IOU : 0.53682 | Val Loss : 0.62176 | Val P.A : 97.97% | Val IOU : 0.22058 | Training Time : 74.08sec\n",
      "\n",
      "Epoch : 64 | Train Loss : 0.44468 | Train P.A : 98.88% | Train IOU : 0.52640 | Val Loss : 0.58519 | Val P.A : 97.89% | Val IOU : 0.22745 | Training Time : 72.94sec\n",
      "\n",
      "Epoch : 65 | Train Loss : 0.43857 | Train P.A : 98.91% | Train IOU : 0.54442 | Val Loss : 0.61053 | Val P.A : 97.96% | Val IOU : 0.22220 | Training Time : 73.83sec\n",
      "\n",
      "Epoch : 66 | Train Loss : 0.44138 | Train P.A : 98.88% | Train IOU : 0.52599 | Val Loss : 0.58928 | Val P.A : 97.93% | Val IOU : 0.22596 | Training Time : 74.29sec\n",
      "\n",
      "Epoch : 67 | Train Loss : 0.44966 | Train P.A : 98.88% | Train IOU : 0.53291 | Val Loss : 0.58482 | Val P.A : 97.94% | Val IOU : 0.22539 | Training Time : 72.63sec\n",
      "\n",
      "Epoch : 68 | Train Loss : 0.44765 | Train P.A : 98.86% | Train IOU : 0.52839 | Val Loss : 0.59185 | Val P.A : 97.93% | Val IOU : 0.22603 | Training Time : 73.14sec\n",
      "\n",
      "Epoch : 69 | Train Loss : 0.44431 | Train P.A : 98.90% | Train IOU : 0.53071 | Val Loss : 0.60865 | Val P.A : 97.94% | Val IOU : 0.22391 | Training Time : 73.37sec\n",
      "\n",
      "Epoch : 70 | Train Loss : 0.43964 | Train P.A : 98.91% | Train IOU : 0.55119 | Val Loss : 0.59967 | Val P.A : 97.96% | Val IOU : 0.22169 | Training Time : 73.92sec\n",
      "\n",
      "Epoch : 71 | Train Loss : 0.43200 | Train P.A : 98.93% | Train IOU : 0.54534 | Val Loss : 0.59541 | Val P.A : 97.95% | Val IOU : 0.22269 | Training Time : 73.35sec\n",
      "\n",
      "Epoch : 72 | Train Loss : 0.42381 | Train P.A : 98.94% | Train IOU : 0.54962 | Val Loss : 0.60507 | Val P.A : 97.96% | Val IOU : 0.22030 | Training Time : 72.27sec\n",
      "Validation performance didn't improve for 30 epochs. Training stops.\n"
     ]
    },
    {
     "data": {
      "text/html": [
       "Waiting for W&B process to finish... <strong style=\"color:green\">(success).</strong>"
      ],
      "text/plain": [
       "<IPython.core.display.HTML object>"
      ]
     },
     "metadata": {},
     "output_type": "display_data"
    },
    {
     "data": {
      "application/vnd.jupyter.widget-view+json": {
       "model_id": "1247234213de440ba40f29732ee2f7eb",
       "version_major": 2,
       "version_minor": 0
      },
      "text/plain": [
       "VBox(children=(Label(value='385.587 MB of 387.727 MB uploaded (0.000 MB deduped)\\r'), FloatProgress(value=0.99…"
      ]
     },
     "metadata": {},
     "output_type": "display_data"
    },
    {
     "data": {
      "text/html": [
       "<style>\n",
       "    table.wandb td:nth-child(1) { padding: 0 10px; text-align: left ; width: auto;} td:nth-child(2) {text-align: left ; width: 100%}\n",
       "    .wandb-row { display: flex; flex-direction: row; flex-wrap: wrap; justify-content: flex-start; width: 100% }\n",
       "    .wandb-col { display: flex; flex-direction: column; flex-basis: 100%; flex: 1; padding: 10px; }\n",
       "    </style>\n",
       "<div class=\"wandb-row\"><div class=\"wandb-col\"><h3>Run history:</h3><br/><table class=\"wandb\"><tr><td>Train IOU</td><td>▁▄▅▅▅▅▆▅▆▆▆▆▆▇▇▇█▇█▇█▇▇▇▇█▇▇▇████▇█▇▇▇██</td></tr><tr><td>Train Loss</td><td>█▆▅▅▄▄▄▄▃▃▃▃▃▂▂▂▁▂▁▁▁▁▁▁▂▁▁▁▁▁▁▁▁▂▁▁▁▁▁▁</td></tr><tr><td>Train P.A</td><td>▁▇▇▇▇▇██████████████████████████████████</td></tr><tr><td>Val IOU</td><td>▁▃▄▃▇▆▅▇▆▇▇▇▇███████████████████████████</td></tr><tr><td>Val Loss</td><td>█▇▅▇▃▄▄▂▃▁▃▂▂▂▂▂▂▁▂▁▂▂▁▁▁▂▁▁▁▂▂▁▂▂▁▁▁▁▂▂</td></tr><tr><td>Val P.A</td><td>▆▁▇▇▆▇▆▇█▇██▇███████████████████████████</td></tr></table><br/></div><div class=\"wandb-col\"><h3>Run summary:</h3><br/><table class=\"wandb\"><tr><td>Train IOU</td><td>0.54962</td></tr><tr><td>Train Loss</td><td>0.42381</td></tr><tr><td>Train P.A</td><td>98.94405</td></tr><tr><td>Val IOU</td><td>0.2203</td></tr><tr><td>Val Loss</td><td>0.60507</td></tr><tr><td>Val P.A</td><td>97.96367</td></tr></table><br/></div></div>"
      ],
      "text/plain": [
       "<IPython.core.display.HTML object>"
      ]
     },
     "metadata": {},
     "output_type": "display_data"
    },
    {
     "data": {
      "text/html": [
       "Synced <strong style=\"color:#cdcd00\">U-efficientnet-b0_refined_ver</strong>: <a href=\"https://wandb.ai/imlim/U_Net/runs/1see2n40\" target=\"_blank\">https://wandb.ai/imlim/U_Net/runs/1see2n40</a><br/>Synced 6 W&B file(s), 3296 media file(s), 0 artifact file(s) and 0 other file(s)"
      ],
      "text/plain": [
       "<IPython.core.display.HTML object>"
      ]
     },
     "metadata": {},
     "output_type": "display_data"
    },
    {
     "data": {
      "text/html": [
       "Find logs at: <code>./wandb/run-20230113_010609-1see2n40/logs</code>"
      ],
      "text/plain": [
       "<IPython.core.display.HTML object>"
      ]
     },
     "metadata": {},
     "output_type": "display_data"
    }
   ],
   "source": [
    "trainer.train()"
   ]
  },
  {
   "cell_type": "code",
   "execution_count": null,
   "metadata": {},
   "outputs": [],
   "source": []
  }
 ],
 "metadata": {
  "kernelspec": {
   "display_name": "Torch",
   "language": "python",
   "name": "python3"
  },
  "language_info": {
   "codemirror_mode": {
    "name": "ipython",
    "version": 3
   },
   "file_extension": ".py",
   "mimetype": "text/x-python",
   "name": "python",
   "nbconvert_exporter": "python",
   "pygments_lexer": "ipython3",
   "version": "3.10.8"
  },
  "orig_nbformat": 4,
  "vscode": {
   "interpreter": {
    "hash": "867dcab57263476bc7cd24a738863ae113fd3e5f85bcd4c9da88727adae00323"
   }
  }
 },
 "nbformat": 4,
 "nbformat_minor": 2
}
