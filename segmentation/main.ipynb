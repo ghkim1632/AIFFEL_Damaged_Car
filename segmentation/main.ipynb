{
 "cells": [
  {
   "cell_type": "code",
   "execution_count": 1,
   "metadata": {},
   "outputs": [],
   "source": [
    "import sys\n",
    "sys.path.append('../')"
   ]
  },
  {
   "cell_type": "code",
   "execution_count": 2,
   "metadata": {},
   "outputs": [],
   "source": [
    "import os, glob, random, cv2\n",
    "import wandb\n",
    "import torch\n",
    "import torch.nn as nn\n",
    "import torch.nn.functional as F\n",
    "import torch.optim as optim\n",
    "\n",
    "import albumentations as A\n",
    "import segmentation_models_pytorch as smp\n",
    "import model.metric as module_metric\n",
    "\n",
    "from data_loader.dataloader import get_dataloader\n",
    "from utils.data import get_datasize\n",
    "from utils.visual import *\n",
    "from albumentations.pytorch import transforms\n",
    "from model.loss import *\n",
    "from train import *\n",
    "from pathlib import Path\n"
   ]
  },
  {
   "cell_type": "code",
   "execution_count": 3,
   "metadata": {},
   "outputs": [],
   "source": [
    "SEED = 42\n",
    "torch.manual_seed(SEED)\n",
    "torch.cuda.manual_seed(SEED)\n",
    "torch.backends.cudnn.deterministic = True\n",
    "torch.backends.cudnn.benchmark = False\n",
    "np.random.seed(SEED)"
   ]
  },
  {
   "cell_type": "code",
   "execution_count": 4,
   "metadata": {},
   "outputs": [],
   "source": [
    "device = 'cuda:0' if torch.cuda.is_available() else 'cpu'\n",
    "\n",
    "lr = 1e-3\n",
    "batch_size = 16\n",
    "num_epoch = 200\n",
    "damage = 'dent'\n",
    "\n",
    "train_dir = f'./dataset/{damage}/train/'\n",
    "val_dir = f'./dataset/{damage}/valid/'"
   ]
  },
  {
   "cell_type": "code",
   "execution_count": 5,
   "metadata": {},
   "outputs": [],
   "source": [
    "transform_train = A.Compose([\n",
    "    A.Resize(512, 512),\n",
    "    A.HorizontalFlip(),\n",
    "    A.RandomBrightnessContrast(brightness_limit=0.3, contrast_limit=0.3, p=0.5),\n",
    "    A.Rotate((-10, 10), p=0.5, border_mode=cv2.BORDER_REFLECT,),\n",
    "    A.Normalize(mean=(0.485, 0.456, 0.406), std=(0.229, 0.224, 0.225)),\n",
    "    transforms.ToTensorV2(transpose_mask=True)\n",
    "])\n",
    "\n",
    "transform_val = A.Compose([\n",
    "    A.Resize(512, 512),\n",
    "    A.Normalize(mean=(0.485, 0.456, 0.406), std=(0.229, 0.224, 0.225)),\n",
    "    transforms.ToTensorV2(transpose_mask=True)\n",
    "])"
   ]
  },
  {
   "cell_type": "code",
   "execution_count": 6,
   "metadata": {},
   "outputs": [],
   "source": [
    "train_dataloader = get_dataloader(train_dir, transform_train, batch_size, True)\n",
    "val_dataloader = get_dataloader(val_dir, transform_val, batch_size, False)"
   ]
  },
  {
   "cell_type": "code",
   "execution_count": 7,
   "metadata": {},
   "outputs": [],
   "source": [
    "model = smp.Unet(encoder_name='efficientnet-b0', encoder_weights='imagenet', in_channels=3, classes=1, activation=None)\n",
    "model = model.to(device)"
   ]
  },
  {
   "cell_type": "code",
   "execution_count": 8,
   "metadata": {},
   "outputs": [],
   "source": [
    "criterion = DiceLoss().to(device)\n",
    "optimizer = optim.SGD(model.parameters(), momentum=0.9, lr=lr)\n",
    "scheduler = optim.lr_scheduler.CosineAnnealingWarmRestarts(optimizer=optimizer, T_0=20, T_mult=2, eta_min=1e-5)\n",
    "metrics = [getattr(module_metric, met) for met in ['IOUscore', 'PixelAccuracy']]"
   ]
  },
  {
   "cell_type": "code",
   "execution_count": 9,
   "metadata": {},
   "outputs": [],
   "source": [
    "train_config = {}\n",
    "train_config['Batch size'] = batch_size\n",
    "train_config['Learning Rate'] = lr\n",
    "train_config['Epochs'] = num_epoch\n",
    "\n",
    "train_config['Loss fn'] = criterion.__class__.__name__\n",
    "train_config['Optimizer'] = optimizer.__class__.__name__\n",
    "train_config['LR Scheduler'] = scheduler.__class__.__name__\n",
    "train_config['Metric'] = {str(idx+1) : metric for idx, metric in enumerate([metrics[i].__name__ for i in range(len(metrics))])}\n"
   ]
  },
  {
   "cell_type": "code",
   "execution_count": 10,
   "metadata": {},
   "outputs": [],
   "source": [
    "save_dir = f\"./saved/U-Net_{model.__dict__['name'].split('-')[1:][0].capitalize()}/{model.__dict__['name'].split('-')[-1].capitalize()}_{damage}_ver0/\"\n",
    "\n",
    "trainer = Trainer(model, criterion, metrics, optimizer, device, num_epoch, save_dir,\n",
    "                                  data_loader=train_dataloader, valid_data_loader=val_dataloader,\n",
    "                                  lr_scheduler=scheduler)"
   ]
  },
  {
   "cell_type": "code",
   "execution_count": 11,
   "metadata": {},
   "outputs": [
    {
     "name": "stderr",
     "output_type": "stream",
     "text": [
      "Failed to detect the name of this notebook, you can set it manually with the WANDB_NOTEBOOK_NAME environment variable to enable code saving.\n",
      "\u001b[34m\u001b[1mwandb\u001b[0m: Currently logged in as: \u001b[33mimlim\u001b[0m. Use \u001b[1m`wandb login --relogin`\u001b[0m to force relogin\n"
     ]
    },
    {
     "data": {
      "text/html": [
       "wandb version 0.13.9 is available!  To upgrade, please run:\n",
       " $ pip install wandb --upgrade"
      ],
      "text/plain": [
       "<IPython.core.display.HTML object>"
      ]
     },
     "metadata": {},
     "output_type": "display_data"
    },
    {
     "data": {
      "text/html": [
       "Tracking run with wandb version 0.13.6"
      ],
      "text/plain": [
       "<IPython.core.display.HTML object>"
      ]
     },
     "metadata": {},
     "output_type": "display_data"
    },
    {
     "data": {
      "text/html": [
       "Run data is saved locally in <code>/home/imlim/Aiffel/segmentation/wandb/run-20230116_001128-3s46be20</code>"
      ],
      "text/plain": [
       "<IPython.core.display.HTML object>"
      ]
     },
     "metadata": {},
     "output_type": "display_data"
    },
    {
     "data": {
      "text/html": [
       "Syncing run <strong><a href=\"https://wandb.ai/imlim/U-Net_Efficientnet/runs/3s46be20\" target=\"_blank\">B0_dent_ver5</a></strong> to <a href=\"https://wandb.ai/imlim/U-Net_Efficientnet\" target=\"_blank\">Weights & Biases</a> (<a href=\"https://wandb.me/run\" target=\"_blank\">docs</a>)<br/>"
      ],
      "text/plain": [
       "<IPython.core.display.HTML object>"
      ]
     },
     "metadata": {},
     "output_type": "display_data"
    },
    {
     "data": {
      "text/html": [
       "<button onClick=\"this.nextSibling.style.display='block';this.style.display='none';\">Display W&B run</button><iframe src=\"https://wandb.ai/imlim/U-Net_Efficientnet/runs/3s46be20?jupyter=true\" style=\"border:none;width:100%;height:420px;display:none;\"></iframe>"
      ],
      "text/plain": [
       "<wandb.sdk.wandb_run.Run at 0x7f5c1be22860>"
      ]
     },
     "execution_count": 11,
     "metadata": {},
     "output_type": "execute_result"
    }
   ],
   "source": [
    "wandb.init(project=trainer.dir.split('/')[1], name=f\"{trainer.dir.split('/')[2]}\", config=train_config)"
   ]
  },
  {
   "cell_type": "code",
   "execution_count": 12,
   "metadata": {},
   "outputs": [
    {
     "name": "stdout",
     "output_type": "stream",
     "text": [
      "\n",
      "Epoch : 0 | Train Loss : 0.98410 | Train P.A : 40.61% | Train IOU : 0.00894 | Val Loss : 0.98228 | Val P.A : 36.56% | Val IOU : 0.00942 | Training Time : 86.16sec\n",
      "\n",
      "Epoch : 1 | Train Loss : 0.98370 | Train P.A : 40.09% | Train IOU : 0.00960 | Val Loss : 0.98176 | Val P.A : 37.82% | Val IOU : 0.01064 | Training Time : 86.53sec\n",
      "\n",
      "Epoch : 2 | Train Loss : 0.98290 | Train P.A : 40.24% | Train IOU : 0.01027 | Val Loss : 0.98123 | Val P.A : 40.34% | Val IOU : 0.01130 | Training Time : 86.49sec\n",
      "\n",
      "Epoch : 3 | Train Loss : 0.98261 | Train P.A : 41.41% | Train IOU : 0.01059 | Val Loss : 0.98076 | Val P.A : 41.45% | Val IOU : 0.01178 | Training Time : 86.25sec\n",
      "\n",
      "Epoch : 4 | Train Loss : 0.98236 | Train P.A : 42.17% | Train IOU : 0.01071 | Val Loss : 0.98024 | Val P.A : 42.07% | Val IOU : 0.01212 | Training Time : 85.25sec\n",
      "\n",
      "Epoch : 5 | Train Loss : 0.98167 | Train P.A : 43.11% | Train IOU : 0.01108 | Val Loss : 0.97963 | Val P.A : 43.20% | Val IOU : 0.01240 | Training Time : 85.78sec\n",
      "\n",
      "Epoch : 6 | Train Loss : 0.98135 | Train P.A : 44.20% | Train IOU : 0.01108 | Val Loss : 0.97909 | Val P.A : 44.26% | Val IOU : 0.01263 | Training Time : 85.20sec\n",
      "\n",
      "Epoch : 7 | Train Loss : 0.98070 | Train P.A : 45.08% | Train IOU : 0.01160 | Val Loss : 0.97851 | Val P.A : 45.32% | Val IOU : 0.01278 | Training Time : 84.45sec\n",
      "\n",
      "Epoch : 8 | Train Loss : 0.98036 | Train P.A : 46.21% | Train IOU : 0.01159 | Val Loss : 0.97795 | Val P.A : 46.42% | Val IOU : 0.01296 | Training Time : 85.15sec\n",
      "\n",
      "Epoch : 9 | Train Loss : 0.97959 | Train P.A : 47.04% | Train IOU : 0.01208 | Val Loss : 0.97759 | Val P.A : 47.62% | Val IOU : 0.01313 | Training Time : 83.02sec\n",
      "\n",
      "Epoch : 10 | Train Loss : 0.97971 | Train P.A : 48.24% | Train IOU : 0.01190 | Val Loss : 0.97717 | Val P.A : 48.33% | Val IOU : 0.01326 | Training Time : 83.25sec\n",
      "\n",
      "Epoch : 11 | Train Loss : 0.97931 | Train P.A : 48.93% | Train IOU : 0.01216 | Val Loss : 0.97667 | Val P.A : 49.61% | Val IOU : 0.01346 | Training Time : 83.43sec\n",
      "\n",
      "Epoch : 12 | Train Loss : 0.97874 | Train P.A : 50.31% | Train IOU : 0.01248 | Val Loss : 0.97617 | Val P.A : 50.04% | Val IOU : 0.01359 | Training Time : 84.87sec\n",
      "\n",
      "Epoch : 13 | Train Loss : 0.97877 | Train P.A : 51.19% | Train IOU : 0.01237 | Val Loss : 0.97584 | Val P.A : 51.49% | Val IOU : 0.01384 | Training Time : 85.19sec\n",
      "\n",
      "Epoch : 14 | Train Loss : 0.97887 | Train P.A : 52.08% | Train IOU : 0.01226 | Val Loss : 0.97535 | Val P.A : 52.61% | Val IOU : 0.01409 | Training Time : 84.50sec\n",
      "\n",
      "Epoch : 15 | "
     ]
    },
    {
     "name": "stderr",
     "output_type": "stream",
     "text": [
      "\u001b[34m\u001b[1mwandb\u001b[0m: Network error resolved after 0:00:11.423151, resuming normal operation.\n"
     ]
    },
    {
     "name": "stdout",
     "output_type": "stream",
     "text": [
      "Train Loss : 0.97842 | Train P.A : 53.30% | Train IOU : 0.01238 | Val Loss : 0.97506 | Val P.A : 53.29% | Val IOU : 0.01428 | Training Time : 86.77sec\n",
      "\n",
      "Epoch : 16 | Train Loss : 0.97737 | Train P.A : 54.50% | Train IOU : 0.01326 | Val Loss : 0.97463 | Val P.A : 53.84% | Val IOU : 0.01448 | Training Time : 85.60sec\n",
      "\n",
      "Epoch : 17 | Train Loss : 0.97724 | Train P.A : 55.49% | Train IOU : 0.01315 | Val Loss : 0.97420 | Val P.A : 55.50% | Val IOU : 0.01483 | Training Time : 84.85sec\n",
      "\n",
      "Epoch : 18 | Train Loss : 0.97669 | Train P.A : 57.02% | Train IOU : 0.01366 | Val Loss : 0.97336 | Val P.A : 57.57% | Val IOU : 0.01552 | Training Time : 80.42sec\n",
      "\n",
      "Epoch : 19 | Train Loss : 0.97640 | Train P.A : 58.79% | Train IOU : 0.01375 | Val Loss : 0.97281 | Val P.A : 59.09% | Val IOU : 0.01590 | Training Time : 83.38sec\n",
      "\n",
      "Epoch : 20 | Train Loss : 0.97618 | Train P.A : 60.26% | Train IOU : 0.01397 | Val Loss : 0.97219 | Val P.A : 60.45% | Val IOU : 0.01633 | Training Time : 79.02sec\n",
      "\n",
      "Epoch : 21 | Train Loss : 0.97596 | Train P.A : 61.44% | Train IOU : 0.01408 | Val Loss : 0.97169 | Val P.A : 60.96% | Val IOU : 0.01655 | Training Time : 79.44sec\n",
      "\n",
      "Epoch : 22 | Train Loss : 0.97489 | Train P.A : 62.31% | Train IOU : 0.01481 | Val Loss : 0.97095 | Val P.A : 62.32% | Val IOU : 0.01697 | Training Time : 79.47sec\n",
      "\n",
      "Epoch : 23 | Train Loss : 0.97492 | Train P.A : 63.46% | Train IOU : 0.01457 | Val Loss : 0.97062 | Val P.A : 63.31% | Val IOU : 0.01725 | Training Time : 79.49sec\n",
      "\n",
      "Epoch : 24 | Train Loss : 0.97397 | Train P.A : 64.66% | Train IOU : 0.01534 | Val Loss : 0.96996 | Val P.A : 64.27% | Val IOU : 0.01762 | Training Time : 79.52sec\n",
      "\n",
      "Epoch : 25 | Train Loss : 0.97441 | Train P.A : 65.58% | Train IOU : 0.01495 | Val Loss : 0.96977 | Val P.A : 63.95% | Val IOU : 0.01759 | Training Time : 79.32sec\n",
      "\n",
      "Epoch : 26 | Train Loss : 0.97327 | Train P.A : 66.07% | Train IOU : 0.01570 | Val Loss : 0.96903 | Val P.A : 66.37% | Val IOU : 0.01812 | Training Time : 79.34sec\n",
      "\n",
      "Epoch : 27 | Train Loss : 0.97268 | Train P.A : 67.23% | Train IOU : 0.01603 | Val Loss : 0.96829 | Val P.A : 67.60% | Val IOU : 0.01847 | Training Time : 79.23sec\n",
      "\n",
      "Epoch : 28 | Train Loss : 0.97265 | Train P.A : 68.69% | Train IOU : 0.01620 | Val Loss : 0.96759 | Val P.A : 68.36% | Val IOU : 0.01893 | Training Time : 79.07sec\n",
      "\n",
      "Epoch : 29 | Train Loss : 0.97335 | Train P.A : 69.30% | Train IOU : 0.01550 | Val Loss : 0.96694 | Val P.A : 68.23% | Val IOU : 0.01932 | Training Time : 81.28sec\n",
      "\n",
      "Epoch : 30 | Train Loss : 0.97156 | Train P.A : 70.46% | Train IOU : 0.01680 | Val Loss : 0.96610 | Val P.A : 69.54% | Val IOU : 0.01974 | Training Time : 80.93sec\n",
      "\n",
      "Epoch : 31 | Train Loss : 0.97116 | Train P.A : 71.30% | Train IOU : 0.01729 | Val Loss : 0.96510 | Val P.A : 70.20% | Val IOU : 0.02019 | Training Time : 80.87sec\n",
      "\n",
      "Epoch : 32 | Train Loss : 0.97063 | Train P.A : 72.42% | Train IOU : 0.01738 | Val Loss : 0.96444 | Val P.A : 70.80% | Val IOU : 0.02069 | Training Time : 81.03sec\n",
      "\n",
      "Epoch : 33 | Train Loss : 0.96943 | Train P.A : 73.29% | Train IOU : 0.01809 | Val Loss : 0.96226 | Val P.A : 74.34% | Val IOU : 0.02257 | Training Time : 80.29sec\n",
      "\n",
      "Epoch : 34 | Train Loss : 0.97091 | Train P.A : 74.44% | Train IOU : 0.01722 | Val Loss : 0.96233 | Val P.A : 74.14% | Val IOU : 0.02203 | Training Time : 79.54sec\n",
      "\n",
      "Epoch : 35 | Train Loss : 0.96865 | Train P.A : 75.04% | Train IOU : 0.01855 | Val Loss : 0.96328 | Val P.A : 74.33% | Val IOU : 0.02178 | Training Time : 79.43sec\n",
      "\n",
      "Epoch : 36 | Train Loss : 0.96841 | Train P.A : 76.29% | Train IOU : 0.01905 | Val Loss : 0.96026 | Val P.A : 76.04% | Val IOU : 0.02410 | Training Time : 80.19sec\n",
      "\n",
      "Epoch : 37 | Train Loss : 0.96839 | Train P.A : 77.82% | Train IOU : 0.01918 | Val Loss : 0.95972 | Val P.A : 76.55% | Val IOU : 0.02454 | Training Time : 82.81sec\n",
      "\n",
      "Epoch : 38 | Train Loss : 0.96741 | Train P.A : 78.90% | Train IOU : 0.01989 | Val Loss : 0.95881 | Val P.A : 77.71% | Val IOU : 0.02458 | Training Time : 81.97sec\n",
      "\n",
      "Epoch : 39 | Train Loss : 0.96662 | Train P.A : 79.80% | Train IOU : 0.02033 | Val Loss : 0.95973 | Val P.A : 80.30% | Val IOU : 0.02440 | Training Time : 81.69sec\n",
      "\n",
      "Epoch : 40 | Train Loss : 0.96573 | Train P.A : 82.88% | Train IOU : 0.02155 | Val Loss : 0.95874 | Val P.A : 83.46% | Val IOU : 0.02519 | Training Time : 82.82sec\n",
      "\n",
      "Epoch : 41 | Train Loss : 0.96247 | Train P.A : 83.72% | Train IOU : 0.02390 | Val Loss : 0.95482 | Val P.A : 82.86% | Val IOU : 0.02787 | Training Time : 83.05sec\n",
      "\n",
      "Epoch : 42 | Train Loss : 0.96304 | Train P.A : 84.84% | Train IOU : 0.02315 | Val Loss : 0.95844 | Val P.A : 83.57% | Val IOU : 0.02499 | Training Time : 81.98sec\n",
      "\n",
      "Epoch : 43 | Train Loss : 0.96217 | Train P.A : 86.68% | Train IOU : 0.02432 | Val Loss : 0.95130 | Val P.A : 88.81% | Val IOU : 0.03219 | Training Time : 80.70sec\n",
      "\n",
      "Epoch : 44 | Train Loss : 0.95835 | Train P.A : 88.69% | Train IOU : 0.02752 | Val Loss : 0.95012 | Val P.A : 87.89% | Val IOU : 0.03144 | Training Time : 81.43sec\n",
      "\n",
      "Epoch : 45 | Train Loss : 0.95650 | Train P.A : 88.73% | Train IOU : 0.02818 | Val Loss : 0.95323 | Val P.A : 88.73% | Val IOU : 0.02945 | Training Time : 80.02sec\n",
      "\n",
      "Epoch : 46 | Train Loss : 0.95603 | Train P.A : 89.88% | Train IOU : 0.02837 | Val Loss : 0.94869 | Val P.A : 89.13% | Val IOU : 0.03273 | Training Time : 81.03sec\n",
      "\n",
      "Epoch : 47 | Train Loss : 0.95318 | Train P.A : 91.26% | Train IOU : 0.03041 | Val Loss : 0.94947 | Val P.A : 90.32% | Val IOU : 0.03251 | Training Time : 80.90sec\n",
      "\n",
      "Epoch : 48 | Train Loss : 0.95011 | Train P.A : 92.20% | Train IOU : 0.03230 | Val Loss : 0.93796 | Val P.A : 92.07% | Val IOU : 0.04048 | Training Time : 81.34sec\n",
      "\n",
      "Epoch : 49 | Train Loss : 0.94646 | Train P.A : 93.81% | Train IOU : 0.03608 | Val Loss : 0.94116 | Val P.A : 92.17% | Val IOU : 0.03801 | Training Time : 80.93sec\n",
      "\n",
      "Epoch : 50 | Train Loss : 0.94489 | Train P.A : 94.16% | Train IOU : 0.03611 | Val Loss : 0.93415 | Val P.A : 94.19% | Val IOU : 0.04294 | Training Time : 81.04sec\n",
      "\n",
      "Epoch : 51 | Train Loss : 0.93728 | Train P.A : 95.27% | Train IOU : 0.04197 | Val Loss : 0.92549 | Val P.A : 96.71% | Val IOU : 0.05030 | Training Time : 80.61sec\n",
      "\n",
      "Epoch : 52 | Train Loss : 0.93550 | Train P.A : 96.01% | Train IOU : 0.04269 | Val Loss : 0.92933 | Val P.A : 94.67% | Val IOU : 0.04390 | Training Time : 80.32sec\n",
      "\n",
      "Epoch : 53 | Train Loss : 0.92775 | Train P.A : 96.95% | Train IOU : 0.04867 | Val Loss : 0.92615 | Val P.A : 94.37% | Val IOU : 0.04685 | Training Time : 79.20sec\n",
      "\n",
      "Epoch : 54 | Train Loss : 0.91888 | Train P.A : 97.27% | Train IOU : 0.05376 | Val Loss : 0.90520 | Val P.A : 96.72% | Val IOU : 0.06211 | Training Time : 79.29sec\n",
      "\n",
      "Epoch : 55 | Train Loss : 0.90246 | Train P.A : 97.60% | Train IOU : 0.06353 | Val Loss : 0.89092 | Val P.A : 98.18% | Val IOU : 0.06928 | Training Time : 81.18sec\n",
      "\n",
      "Epoch : 56 | Train Loss : 0.88154 | Train P.A : 98.16% | Train IOU : 0.07689 | Val Loss : 0.86032 | Val P.A : 98.14% | Val IOU : 0.08919 | Training Time : 80.89sec\n",
      "\n",
      "Epoch : 57 | Train Loss : 0.85416 | Train P.A : 98.51% | Train IOU : 0.09347 | Val Loss : 0.82603 | Val P.A : 97.40% | Val IOU : 0.11009 | Training Time : 80.95sec\n",
      "\n",
      "Epoch : 58 | Train Loss : 0.81554 | Train P.A : 98.69% | Train IOU : 0.11812 | Val Loss : 0.74568 | Val P.A : 98.76% | Val IOU : 0.16686 | Training Time : 80.89sec\n",
      "\n",
      "Epoch : 59 | Train Loss : 0.75869 | Train P.A : 98.80% | Train IOU : 0.15277 | Val Loss : 0.71240 | Val P.A : 98.87% | Val IOU : 0.18497 | Training Time : 81.15sec\n",
      "\n",
      "Epoch : 60 | Train Loss : 0.71906 | Train P.A : 98.90% | Train IOU : 0.17879 | Val Loss : 0.71680 | Val P.A : 98.57% | Val IOU : 0.18236 | Training Time : 80.89sec\n",
      "\n",
      "Epoch : 61 | Train Loss : 0.69467 | Train P.A : 98.95% | Train IOU : 0.19716 | Val Loss : 0.72212 | Val P.A : 98.43% | Val IOU : 0.17003 | Training Time : 80.37sec\n",
      "\n",
      "Epoch : 62 | Train Loss : 0.68087 | Train P.A : 98.95% | Train IOU : 0.20536 | Val Loss : 0.71705 | Val P.A : 98.79% | Val IOU : 0.17814 | Training Time : 80.15sec\n",
      "\n",
      "Epoch : 63 | Train Loss : 0.65512 | Train P.A : 99.03% | Train IOU : 0.22454 | Val Loss : 0.68080 | Val P.A : 98.95% | Val IOU : 0.20304 | Training Time : 81.43sec\n",
      "\n",
      "Epoch : 64 | Train Loss : 0.65161 | Train P.A : 99.06% | Train IOU : 0.22668 | Val Loss : 0.69823 | Val P.A : 98.93% | Val IOU : 0.19329 | Training Time : 81.29sec\n",
      "\n",
      "Epoch : 65 | Train Loss : 0.62779 | Train P.A : 99.13% | Train IOU : 0.24727 | Val Loss : 0.66988 | Val P.A : 98.82% | Val IOU : 0.21421 | Training Time : 80.48sec\n",
      "\n",
      "Epoch : 66 | Train Loss : 0.61122 | Train P.A : 99.15% | Train IOU : 0.25881 | Val Loss : 0.70605 | Val P.A : 98.62% | Val IOU : 0.18447 | Training Time : 81.26sec\n",
      "\n",
      "Epoch : 67 | Train Loss : 0.60004 | Train P.A : 99.17% | Train IOU : 0.26725 | Val Loss : 0.67981 | Val P.A : 98.97% | Val IOU : 0.21037 | Training Time : 80.25sec\n",
      "\n",
      "Epoch : 68 | Train Loss : 0.59088 | Train P.A : 99.17% | Train IOU : 0.27478 | Val Loss : 0.69098 | Val P.A : 99.06% | Val IOU : 0.20062 | Training Time : 80.73sec\n",
      "\n",
      "Epoch : 69 | Train Loss : 0.57546 | Train P.A : 99.21% | Train IOU : 0.28789 | Val Loss : 0.69133 | Val P.A : 98.98% | Val IOU : 0.19699 | Training Time : 80.29sec\n",
      "\n",
      "Epoch : 70 | Train Loss : 0.58675 | Train P.A : 99.21% | Train IOU : 0.27643 | Val Loss : 0.69022 | Val P.A : 98.95% | Val IOU : 0.20116 | Training Time : 80.56sec\n",
      "\n",
      "Epoch : 71 | Train Loss : 0.55585 | Train P.A : 99.27% | Train IOU : 0.30457 | Val Loss : 0.71947 | Val P.A : 99.02% | Val IOU : 0.18201 | Training Time : 80.51sec\n",
      "\n",
      "Epoch : 72 | Train Loss : 0.55478 | Train P.A : 99.27% | Train IOU : 0.30322 | Val Loss : 0.70160 | Val P.A : 98.68% | Val IOU : 0.19019 | Training Time : 81.23sec\n",
      "\n",
      "Epoch : 73 | Train Loss : 0.53930 | Train P.A : 99.28% | Train IOU : 0.31722 | Val Loss : 0.67908 | Val P.A : 98.95% | Val IOU : 0.20687 | Training Time : 80.54sec\n",
      "\n",
      "Epoch : 74 | Train Loss : 0.53786 | Train P.A : 99.27% | Train IOU : 0.31806 | Val Loss : 0.70705 | Val P.A : 99.07% | Val IOU : 0.18843 | Training Time : 80.47sec\n",
      "\n",
      "Epoch : 75 | Train Loss : 0.53995 | Train P.A : 99.28% | Train IOU : 0.31870 | Val Loss : 0.69267 | Val P.A : 98.92% | Val IOU : 0.20015 | Training Time : 80.71sec\n",
      "\n",
      "Epoch : 76 | Train Loss : 0.53935 | Train P.A : 99.28% | Train IOU : 0.31927 | Val Loss : 0.69857 | Val P.A : 98.76% | Val IOU : 0.19091 | Training Time : 80.51sec\n",
      "\n",
      "Epoch : 77 | Train Loss : 0.51991 | Train P.A : 99.32% | Train IOU : 0.33509 | Val Loss : 0.70543 | Val P.A : 99.04% | Val IOU : 0.18861 | Training Time : 80.79sec\n",
      "\n",
      "Epoch : 78 | Train Loss : 0.52608 | Train P.A : 99.33% | Train IOU : 0.33440 | Val Loss : 0.67498 | Val P.A : 98.69% | Val IOU : 0.20631 | Training Time : 81.80sec\n",
      "\n",
      "Epoch : 79 | Train Loss : 0.51243 | Train P.A : 99.35% | Train IOU : 0.34126 | Val Loss : 0.66426 | Val P.A : 99.05% | Val IOU : 0.22194 | Training Time : 82.52sec\n",
      "\n",
      "Epoch : 80 | Train Loss : 0.50785 | Train P.A : 99.36% | Train IOU : 0.34793 | Val Loss : 0.66993 | Val P.A : 99.02% | Val IOU : 0.21830 | Training Time : 80.28sec\n",
      "\n",
      "Epoch : 81 | Train Loss : 0.49743 | Train P.A : 99.35% | Train IOU : 0.35393 | Val Loss : 0.68951 | Val P.A : 98.89% | Val IOU : 0.19914 | Training Time : 79.63sec\n",
      "\n",
      "Epoch : 82 | Train Loss : 0.47800 | Train P.A : 99.39% | Train IOU : 0.37361 | Val Loss : 0.66485 | Val P.A : 98.98% | Val IOU : 0.21706 | Training Time : 79.52sec\n",
      "\n",
      "Epoch : 83 | Train Loss : 0.50726 | Train P.A : 99.38% | Train IOU : 0.35217 | Val Loss : 0.67547 | Val P.A : 99.00% | Val IOU : 0.21055 | Training Time : 80.40sec\n",
      "\n",
      "Epoch : 84 | Train Loss : 0.47339 | Train P.A : 99.40% | Train IOU : 0.37926 | Val Loss : 0.66727 | Val P.A : 99.06% | Val IOU : 0.21990 | Training Time : 79.96sec\n",
      "\n",
      "Epoch : 85 | Train Loss : 0.43700 | Train P.A : 99.42% | Train IOU : 0.41264 | Val Loss : 0.67049 | Val P.A : 98.98% | Val IOU : 0.21409 | Training Time : 81.19sec\n",
      "\n",
      "Epoch : 86 | Train Loss : 0.45175 | Train P.A : 99.41% | Train IOU : 0.39679 | Val Loss : 0.68586 | Val P.A : 98.88% | Val IOU : 0.20005 | Training Time : 80.86sec\n",
      "\n",
      "Epoch : 87 | Train Loss : 0.44539 | Train P.A : 99.42% | Train IOU : 0.40170 | Val Loss : 0.69312 | Val P.A : 99.07% | Val IOU : 0.20019 | Training Time : 80.36sec\n",
      "\n",
      "Epoch : 88 | Train Loss : 0.44990 | Train P.A : 99.43% | Train IOU : 0.39825 | Val Loss : 0.66633 | Val P.A : 99.02% | Val IOU : 0.21859 | Training Time : 80.69sec\n",
      "\n",
      "Epoch : 89 | Train Loss : 0.45424 | Train P.A : 99.42% | Train IOU : 0.39565 | Val Loss : 0.70330 | Val P.A : 99.09% | Val IOU : 0.19218 | Training Time : 80.45sec\n",
      "\n",
      "Epoch : 90 | Train Loss : 0.43715 | Train P.A : 99.45% | Train IOU : 0.41393 | Val Loss : 0.67621 | Val P.A : 99.11% | Val IOU : 0.21604 | Training Time : 80.73sec\n",
      "\n",
      "Epoch : 91 | Train Loss : 0.41671 | Train P.A : 99.47% | Train IOU : 0.43088 | Val Loss : 0.69493 | Val P.A : 99.07% | Val IOU : 0.20300 | Training Time : 80.78sec\n",
      "\n",
      "Epoch : 92 | Train Loss : 0.43351 | Train P.A : 99.45% | Train IOU : 0.41823 | Val Loss : 0.67510 | Val P.A : 99.03% | Val IOU : 0.21430 | Training Time : 80.58sec\n",
      "\n",
      "Epoch : 93 | Train Loss : 0.43500 | Train P.A : 99.44% | Train IOU : 0.41483 | Val Loss : 0.66380 | Val P.A : 99.09% | Val IOU : 0.22293 | Training Time : 80.74sec\n",
      "\n",
      "Epoch : 94 | Train Loss : 0.44203 | Train P.A : 99.45% | Train IOU : 0.41182 | Val Loss : 0.68428 | Val P.A : 99.06% | Val IOU : 0.20758 | Training Time : 81.32sec\n",
      "\n",
      "Epoch : 95 | Train Loss : 0.42493 | Train P.A : 99.46% | Train IOU : 0.42862 | Val Loss : 0.64484 | Val P.A : 99.04% | Val IOU : 0.23509 | Training Time : 80.02sec\n",
      "\n",
      "Epoch : 96 | Train Loss : 0.42520 | Train P.A : 99.46% | Train IOU : 0.42725 | Val Loss : 0.68726 | Val P.A : 99.04% | Val IOU : 0.20188 | Training Time : 79.74sec\n",
      "\n",
      "Epoch : 97 | Train Loss : 0.42254 | Train P.A : 99.47% | Train IOU : 0.42696 | Val Loss : 0.65690 | Val P.A : 99.01% | Val IOU : 0.22639 | Training Time : 80.80sec\n",
      "\n",
      "Epoch : 98 | Train Loss : 0.43057 | Train P.A : 99.47% | Train IOU : 0.42247 | Val Loss : 0.63053 | Val P.A : 98.93% | Val IOU : 0.24111 | Training Time : 80.03sec\n",
      "\n",
      "Epoch : 99 | Train Loss : 0.39193 | Train P.A : 99.49% | Train IOU : 0.45784 | Val Loss : 0.67542 | Val P.A : 99.12% | Val IOU : 0.21636 | Training Time : 80.12sec\n",
      "\n",
      "Epoch : 100 | Train Loss : 0.42873 | Train P.A : 99.48% | Train IOU : 0.42644 | Val Loss : 0.65828 | Val P.A : 99.07% | Val IOU : 0.22535 | Training Time : 79.88sec\n",
      "\n",
      "Epoch : 101 | Train Loss : 0.38990 | Train P.A : 99.51% | Train IOU : 0.46204 | Val Loss : 0.67341 | Val P.A : 99.06% | Val IOU : 0.21481 | Training Time : 80.75sec\n",
      "\n",
      "Epoch : 102 | Train Loss : 0.38764 | Train P.A : 99.50% | Train IOU : 0.46168 | Val Loss : 0.65410 | Val P.A : 99.11% | Val IOU : 0.23175 | Training Time : 80.11sec\n",
      "\n",
      "Epoch : 103 | Train Loss : 0.36449 | Train P.A : 99.52% | Train IOU : 0.48435 | Val Loss : 0.68226 | Val P.A : 99.08% | Val IOU : 0.20819 | Training Time : 80.39sec\n",
      "\n",
      "Epoch : 104 | Train Loss : 0.39605 | Train P.A : 99.51% | Train IOU : 0.45706 | Val Loss : 0.67316 | Val P.A : 99.07% | Val IOU : 0.21329 | Training Time : 80.65sec\n",
      "\n",
      "Epoch : 105 | Train Loss : 0.41565 | Train P.A : 99.48% | Train IOU : 0.43731 | Val Loss : 0.70327 | Val P.A : 99.10% | Val IOU : 0.19390 | Training Time : 80.11sec\n",
      "\n",
      "Epoch : 106 | Train Loss : 0.41369 | Train P.A : 99.48% | Train IOU : 0.43709 | Val Loss : 0.65287 | Val P.A : 98.94% | Val IOU : 0.22710 | Training Time : 79.89sec\n",
      "\n",
      "Epoch : 107 | Train Loss : 0.41896 | Train P.A : 99.49% | Train IOU : 0.43756 | Val Loss : 0.68858 | Val P.A : 99.07% | Val IOU : 0.20248 | Training Time : 79.76sec\n",
      "\n",
      "Epoch : 108 | Train Loss : 0.39288 | Train P.A : 99.51% | Train IOU : 0.45930 | Val Loss : 0.68746 | Val P.A : 99.09% | Val IOU : 0.20632 | Training Time : 79.35sec\n",
      "\n",
      "Epoch : 109 | Train Loss : 0.38553 | Train P.A : 99.52% | Train IOU : 0.46625 | Val Loss : 0.71553 | Val P.A : 99.07% | Val IOU : 0.18405 | Training Time : 79.90sec\n",
      "\n",
      "Epoch : 110 | Train Loss : 0.36555 | Train P.A : 99.53% | Train IOU : 0.48697 | Val Loss : 0.66162 | Val P.A : 99.09% | Val IOU : 0.22457 | Training Time : 79.80sec\n",
      "\n",
      "Epoch : 111 | Train Loss : 0.35901 | Train P.A : 99.53% | Train IOU : 0.49062 | Val Loss : 0.68772 | Val P.A : 99.09% | Val IOU : 0.20691 | Training Time : 80.54sec\n",
      "\n",
      "Epoch : 112 | Train Loss : 0.37971 | Train P.A : 99.52% | Train IOU : 0.47239 | Val Loss : 0.66931 | Val P.A : 99.09% | Val IOU : 0.21704 | Training Time : 80.32sec\n",
      "\n",
      "Epoch : 113 | Train Loss : 0.37713 | Train P.A : 99.52% | Train IOU : 0.47209 | Val Loss : 0.67240 | Val P.A : 99.11% | Val IOU : 0.21870 | Training Time : 80.71sec\n",
      "\n",
      "Epoch : 114 | Train Loss : 0.37969 | Train P.A : 99.53% | Train IOU : 0.47488 | Val Loss : 0.67544 | Val P.A : 99.03% | Val IOU : 0.21373 | Training Time : 81.11sec\n",
      "\n",
      "Epoch : 115 | Train Loss : 0.38494 | Train P.A : 99.53% | Train IOU : 0.47091 | Val Loss : 0.65692 | Val P.A : 99.04% | Val IOU : 0.22662 | Training Time : 80.06sec\n",
      "\n",
      "Epoch : 116 | Train Loss : 0.36356 | Train P.A : 99.54% | Train IOU : 0.48771 | Val Loss : 0.67337 | Val P.A : 99.10% | Val IOU : 0.21696 | Training Time : 79.55sec\n",
      "\n",
      "Epoch : 117 | Train Loss : 0.36732 | Train P.A : 99.55% | Train IOU : 0.48633 | Val Loss : 0.69631 | Val P.A : 98.99% | Val IOU : 0.19652 | Training Time : 79.66sec\n",
      "\n",
      "Epoch : 118 | Train Loss : 0.37763 | Train P.A : 99.52% | Train IOU : 0.47582 | Val Loss : 0.69047 | Val P.A : 99.10% | Val IOU : 0.20234 | Training Time : 80.31sec\n",
      "\n",
      "Epoch : 119 | Train Loss : 0.37556 | Train P.A : 99.52% | Train IOU : 0.48031 | Val Loss : 0.64980 | Val P.A : 99.10% | Val IOU : 0.23728 | Training Time : 80.85sec\n",
      "Validation performance didn't improve for 20 epochs. Training stops.\n"
     ]
    },
    {
     "data": {
      "text/html": [
       "Waiting for W&B process to finish... <strong style=\"color:green\">(success).</strong>"
      ],
      "text/plain": [
       "<IPython.core.display.HTML object>"
      ]
     },
     "metadata": {},
     "output_type": "display_data"
    },
    {
     "data": {
      "application/vnd.jupyter.widget-view+json": {
       "model_id": "389ec03c4c244d8b87025bc0b75c46b6",
       "version_major": 2,
       "version_minor": 0
      },
      "text/plain": [
       "VBox(children=(Label(value='548.900 MB of 548.900 MB uploaded (0.000 MB deduped)\\r'), FloatProgress(value=1.0,…"
      ]
     },
     "metadata": {},
     "output_type": "display_data"
    },
    {
     "data": {
      "text/html": [
       "<style>\n",
       "    table.wandb td:nth-child(1) { padding: 0 10px; text-align: left ; width: auto;} td:nth-child(2) {text-align: left ; width: 100%}\n",
       "    .wandb-row { display: flex; flex-direction: row; flex-wrap: wrap; justify-content: flex-start; width: 100% }\n",
       "    .wandb-col { display: flex; flex-direction: column; flex-basis: 100%; flex: 1; padding: 10px; }\n",
       "    </style>\n",
       "<div class=\"wandb-row\"><div class=\"wandb-col\"><h3>Run history:</h3><br/><table class=\"wandb\"><tr><td>Train IOU</td><td>▁▁▁▁▁▁▁▁▁▁▁▁▁▁▁▁▁▁▂▂▄▄▅▅▆▆▆▆▇▇▇▇▇▇█▇████</td></tr><tr><td>Train Loss</td><td>█████████████████▇▇▇▅▄▄▄▃▃▃▂▂▂▂▂▂▂▁▂▁▁▁▁</td></tr><tr><td>Train P.A</td><td>▁▁▁▂▂▃▃▃▄▄▅▅▅▆▆▇▇▇██████████████████████</td></tr><tr><td>Val IOU</td><td>▁▁▁▁▁▁▁▁▁▁▁▁▁▁▁▂▂▂▃▄▆▇▇▇▇▇█▇▇▇▇▇██▇█▆▇██</td></tr><tr><td>Val Loss</td><td>██████████████▇▇▇▇▆▅▃▂▂▂▂▂▁▁▁▁▂▂▁▁▂▁▂▁▁▁</td></tr><tr><td>Val P.A</td><td>▁▂▂▂▃▃▃▄▄▄▅▅▅▆▆▇▇███████████████████████</td></tr></table><br/></div><div class=\"wandb-col\"><h3>Run summary:</h3><br/><table class=\"wandb\"><tr><td>Train IOU</td><td>0.48031</td></tr><tr><td>Train Loss</td><td>0.37556</td></tr><tr><td>Train P.A</td><td>99.52418</td></tr><tr><td>Val IOU</td><td>0.23728</td></tr><tr><td>Val Loss</td><td>0.6498</td></tr><tr><td>Val P.A</td><td>99.10379</td></tr></table><br/></div></div>"
      ],
      "text/plain": [
       "<IPython.core.display.HTML object>"
      ]
     },
     "metadata": {},
     "output_type": "display_data"
    },
    {
     "data": {
      "text/html": [
       "Synced <strong style=\"color:#cdcd00\">B0_dent_ver5</strong>: <a href=\"https://wandb.ai/imlim/U-Net_Efficientnet/runs/3s46be20\" target=\"_blank\">https://wandb.ai/imlim/U-Net_Efficientnet/runs/3s46be20</a><br/>Synced 6 W&B file(s), 3965 media file(s), 0 artifact file(s) and 0 other file(s)"
      ],
      "text/plain": [
       "<IPython.core.display.HTML object>"
      ]
     },
     "metadata": {},
     "output_type": "display_data"
    },
    {
     "data": {
      "text/html": [
       "Find logs at: <code>./wandb/run-20230116_001128-3s46be20/logs</code>"
      ],
      "text/plain": [
       "<IPython.core.display.HTML object>"
      ]
     },
     "metadata": {},
     "output_type": "display_data"
    }
   ],
   "source": [
    "trainer.train()"
   ]
  }
 ],
 "metadata": {
  "kernelspec": {
   "display_name": "Torch",
   "language": "python",
   "name": "python3"
  },
  "language_info": {
   "codemirror_mode": {
    "name": "ipython",
    "version": 3
   },
   "file_extension": ".py",
   "mimetype": "text/x-python",
   "name": "python",
   "nbconvert_exporter": "python",
   "pygments_lexer": "ipython3",
   "version": "3.10.8"
  },
  "orig_nbformat": 4,
  "vscode": {
   "interpreter": {
    "hash": "867dcab57263476bc7cd24a738863ae113fd3e5f85bcd4c9da88727adae00323"
   }
  }
 },
 "nbformat": 4,
 "nbformat_minor": 2
}
