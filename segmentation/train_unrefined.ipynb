{
 "cells": [
  {
   "cell_type": "code",
   "execution_count": 1,
   "metadata": {},
   "outputs": [],
   "source": [
    "import sys\n",
    "sys.path.append('../')"
   ]
  },
  {
   "cell_type": "code",
   "execution_count": 2,
   "metadata": {},
   "outputs": [],
   "source": [
    "import os, glob, random, cv2\n",
    "import wandb\n",
    "import torch\n",
    "import torch.nn as nn\n",
    "import torch.nn.functional as F\n",
    "import torch.optim as optim\n",
    "\n",
    "import albumentations as A\n",
    "import segmentation_models_pytorch as smp\n",
    "import model.metric as module_metric\n",
    "\n",
    "from data_loader.dataloader import get_dataloader \n",
    "from utils.data import get_datasize\n",
    "from utils.visual import *\n",
    "from albumentations.pytorch import transforms\n",
    "from model.loss import *\n",
    "from train import *\n",
    "from pathlib import Path"
   ]
  },
  {
   "cell_type": "code",
   "execution_count": 3,
   "metadata": {},
   "outputs": [],
   "source": [
    "SEED = 42\n",
    "random.seed(SEED)\n",
    "os.environ['PYTHONHASHSEED'] = str(SEED)\n",
    "torch.manual_seed(SEED)\n",
    "torch.cuda.manual_seed(SEED)\n",
    "torch.backends.cudnn.deterministic = True\n",
    "torch.backends.cudnn.benchmark = False\n",
    "np.random.seed(SEED)"
   ]
  },
  {
   "cell_type": "code",
   "execution_count": 4,
   "metadata": {},
   "outputs": [],
   "source": [
    "device = 'cuda:0' if torch.cuda.is_available() else 'cpu'\n",
    "\n",
    "lr = 1e-3\n",
    "batch_size = 4\n",
    "num_epoch = 100\n",
    "refined = 'unrefined'\n",
    "\n",
    "train_dir = f'./dataset/{refined}/crushed/train/'\n",
    "val_dir = f'./dataset/refined/crushed/val/'"
   ]
  },
  {
   "cell_type": "code",
   "execution_count": 5,
   "metadata": {},
   "outputs": [],
   "source": [
    "transform_train = A.Compose([\n",
    "    A.HorizontalFlip(),\n",
    "    A.Rotate((-10, 10), p=0.5, border_mode=cv2.BORDER_REFLECT,),\n",
    "    A.RandomBrightnessContrast(brightness_limit=0.3, contrast_limit=0.3),\n",
    "    A.Resize(224, 224),\n",
    "    A.Normalize(mean = 0.5, std=0.5),\n",
    "    transforms.ToTensorV2(transpose_mask=True)\n",
    "])\n",
    "\n",
    "transform_val = A.Compose([\n",
    "    A.Resize(224, 224),\n",
    "    A.Normalize(mean = 0.5, std=0.5),\n",
    "    transforms.ToTensorV2(transpose_mask=True)\n",
    "])"
   ]
  },
  {
   "cell_type": "code",
   "execution_count": 6,
   "metadata": {},
   "outputs": [],
   "source": [
    "train_dataloader = get_dataloader(train_dir, transform_train, batch_size)\n",
    "val_dataloader = get_dataloader(val_dir, transform_val, batch_size)"
   ]
  },
  {
   "cell_type": "code",
   "execution_count": 7,
   "metadata": {},
   "outputs": [],
   "source": [
    "model = smp.Unet(encoder_name='efficientnet-b0', encoder_weights='imagenet', in_channels=3, classes=1, activation=None)\n",
    "model = model.to(device)"
   ]
  },
  {
   "cell_type": "code",
   "execution_count": 8,
   "metadata": {},
   "outputs": [],
   "source": [
    "criterion = IoULoss().to(device)\n",
    "optimizer = optim.Adam(model.parameters(), lr=lr, weight_decay=5* 1e-4)\n",
    "scheduler = optim.lr_scheduler.CosineAnnealingWarmRestarts(optimizer=optimizer, T_0=50, T_mult=2, eta_min=1e-7)\n",
    "metrics = [getattr(module_metric, met) for met in ['IOUscore', 'PixelAccuracy']]"
   ]
  },
  {
   "cell_type": "code",
   "execution_count": 9,
   "metadata": {},
   "outputs": [],
   "source": [
    "train_config = {}\n",
    "train_config['Batch size'] = batch_size\n",
    "train_config['Learning Rate'] = lr\n",
    "train_config['Epochs'] = num_epoch\n",
    "\n",
    "train_config['Loss fn'] = criterion.__class__.__name__\n",
    "train_config['Optimizer'] = optimizer.__class__.__name__\n",
    "train_config['LR Scheduler'] = scheduler.__class__.__name__\n",
    "train_config['Metric'] = {str(idx+1) : metric for idx, metric in enumerate([metrics[i].__name__ for i in range(len(metrics))])}\n"
   ]
  },
  {
   "cell_type": "code",
   "execution_count": 10,
   "metadata": {},
   "outputs": [
    {
     "name": "stderr",
     "output_type": "stream",
     "text": [
      "Failed to detect the name of this notebook, you can set it manually with the WANDB_NOTEBOOK_NAME environment variable to enable code saving.\n",
      "\u001b[34m\u001b[1mwandb\u001b[0m: Currently logged in as: \u001b[33mimlim\u001b[0m. Use \u001b[1m`wandb login --relogin`\u001b[0m to force relogin\n"
     ]
    },
    {
     "data": {
      "text/html": [
       "wandb version 0.13.8 is available!  To upgrade, please run:\n",
       " $ pip install wandb --upgrade"
      ],
      "text/plain": [
       "<IPython.core.display.HTML object>"
      ]
     },
     "metadata": {},
     "output_type": "display_data"
    },
    {
     "data": {
      "text/html": [
       "Tracking run with wandb version 0.13.6"
      ],
      "text/plain": [
       "<IPython.core.display.HTML object>"
      ]
     },
     "metadata": {},
     "output_type": "display_data"
    },
    {
     "data": {
      "text/html": [
       "Run data is saved locally in <code>/home/imlim/Aiffel/segmentation/wandb/run-20230112_205241-23s795le</code>"
      ],
      "text/plain": [
       "<IPython.core.display.HTML object>"
      ]
     },
     "metadata": {},
     "output_type": "display_data"
    },
    {
     "data": {
      "text/html": [
       "Syncing run <strong><a href=\"https://wandb.ai/imlim/Segmentation/runs/23s795le\" target=\"_blank\">U-Net_Efficientnet_unrefined</a></strong> to <a href=\"https://wandb.ai/imlim/Segmentation\" target=\"_blank\">Weights & Biases</a> (<a href=\"https://wandb.me/run\" target=\"_blank\">docs</a>)<br/>"
      ],
      "text/plain": [
       "<IPython.core.display.HTML object>"
      ]
     },
     "metadata": {},
     "output_type": "display_data"
    },
    {
     "data": {
      "text/html": [
       "<button onClick=\"this.nextSibling.style.display='block';this.style.display='none';\">Display W&B run</button><iframe src=\"https://wandb.ai/imlim/Segmentation/runs/23s795le?jupyter=true\" style=\"border:none;width:100%;height:420px;display:none;\"></iframe>"
      ],
      "text/plain": [
       "<wandb.sdk.wandb_run.Run at 0x7fdf384f2950>"
      ]
     },
     "execution_count": 10,
     "metadata": {},
     "output_type": "execute_result"
    }
   ],
   "source": [
    "wandb.init(project='Segmentation', name=f\"U-Net_{model.__dict__['name'].split('-')[1:][0].capitalize()}_{refined}\", config=train_config)"
   ]
  },
  {
   "cell_type": "code",
   "execution_count": 11,
   "metadata": {},
   "outputs": [],
   "source": [
    "save_dir = f\"./saved/U-Net/{model.__dict__['name'].split('-')[1:][0].capitalize()}_Ver0/{refined}\"\n",
    "\n",
    "trainer = Trainer(model, criterion, metrics, optimizer, device, num_epoch, save_dir,\n",
    "                                  data_loader=train_dataloader, valid_data_loader=val_dataloader,\n",
    "                                  lr_scheduler=scheduler)"
   ]
  },
  {
   "cell_type": "code",
   "execution_count": 12,
   "metadata": {},
   "outputs": [
    {
     "name": "stdout",
     "output_type": "stream",
     "text": [
      "\n",
      "Epoch : 0 | Train Loss : 0.92417 | Train P.A : 84.41% | Train IOU : 0.14763 | Val Loss : 0.99452 | Val P.A : 97.74% | Val IOU : 0.00234 | Training Time : 36.85sec\n",
      "\n",
      "Epoch : 1 | Train Loss : 0.84810 | Train P.A : 96.52% | Train IOU : 0.30111 | Val Loss : 0.99125 | Val P.A : 97.62% | Val IOU : 0.00844 | Training Time : 34.76sec\n",
      "\n",
      "Epoch : 2 | Train Loss : 0.82095 | Train P.A : 97.10% | Train IOU : 0.33754 | Val Loss : 0.99831 | Val P.A : 97.69% | Val IOU : 0.00194 | Training Time : 33.87sec\n",
      "\n",
      "Epoch : 3 | Train Loss : 0.81121 | Train P.A : 97.24% | Train IOU : 0.35035 | Val Loss : 0.99946 | Val P.A : 97.74% | Val IOU : 0.00000 | Training Time : 34.82sec\n",
      "\n",
      "Epoch : 4 | Train Loss : 0.80410 | Train P.A : 97.44% | Train IOU : 0.37167 | Val Loss : 0.97010 | Val P.A : 97.28% | Val IOU : 0.02038 | Training Time : 33.58sec\n",
      "\n",
      "Epoch : 5 | Train Loss : 0.79641 | Train P.A : 97.51% | Train IOU : 0.35830 | Val Loss : 0.97683 | Val P.A : 97.60% | Val IOU : 0.02456 | Training Time : 33.47sec\n",
      "\n",
      "Epoch : 6 | Train Loss : 0.80523 | Train P.A : 97.67% | Train IOU : 0.37185 | Val Loss : 0.99914 | Val P.A : 97.59% | Val IOU : 0.00186 | Training Time : 34.12sec\n",
      "\n",
      "Epoch : 7 | Train Loss : 0.78377 | Train P.A : 97.67% | Train IOU : 0.38980 | Val Loss : 0.99002 | Val P.A : 97.71% | Val IOU : 0.00674 | Training Time : 34.08sec\n",
      "\n",
      "Epoch : 8 | Train Loss : 0.79391 | Train P.A : 97.65% | Train IOU : 0.36842 | Val Loss : 0.97118 | Val P.A : 97.56% | Val IOU : 0.02163 | Training Time : 32.94sec\n",
      "\n",
      "Epoch : 9 | Train Loss : 0.79661 | Train P.A : 97.36% | Train IOU : 0.35109 | Val Loss : 0.99020 | Val P.A : 97.70% | Val IOU : 0.00931 | Training Time : 34.88sec\n",
      "\n",
      "Epoch : 10 | Train Loss : 0.79867 | Train P.A : 97.38% | Train IOU : 0.36207 | Val Loss : 0.98863 | Val P.A : 97.61% | Val IOU : 0.01058 | Training Time : 34.28sec\n",
      "\n",
      "Epoch : 11 | Train Loss : 0.76998 | Train P.A : 97.69% | Train IOU : 0.39404 | Val Loss : 0.98868 | Val P.A : 97.72% | Val IOU : 0.00828 | Training Time : 33.97sec\n",
      "\n",
      "Epoch : 12 | Train Loss : 0.77152 | Train P.A : 97.74% | Train IOU : 0.40178 | Val Loss : 0.98905 | Val P.A : 97.73% | Val IOU : 0.00508 | Training Time : 34.63sec\n",
      "\n",
      "Epoch : 13 | Train Loss : 0.77806 | Train P.A : 97.59% | Train IOU : 0.39642 | Val Loss : 0.98473 | Val P.A : 97.64% | Val IOU : 0.01132 | Training Time : 32.69sec\n",
      "\n",
      "Epoch : 14 | Train Loss : 0.77842 | Train P.A : 97.61% | Train IOU : 0.37815 | Val Loss : 0.99295 | Val P.A : 97.74% | Val IOU : 0.00432 | Training Time : 33.88sec\n",
      "\n",
      "Epoch : 15 | Train Loss : 0.77327 | Train P.A : 97.69% | Train IOU : 0.37681 | Val Loss : 0.97143 | Val P.A : 97.29% | Val IOU : 0.02852 | Training Time : 34.06sec\n",
      "\n",
      "Epoch : 16 | Train Loss : 0.77389 | Train P.A : 97.70% | Train IOU : 0.39120 | Val Loss : 0.96086 | Val P.A : 96.69% | Val IOU : 0.02734 | Training Time : 35.24sec\n",
      "\n",
      "Epoch : 17 | Train Loss : 0.77846 | Train P.A : 97.61% | Train IOU : 0.38210 | Val Loss : 0.97539 | Val P.A : 96.00% | Val IOU : 0.02103 | Training Time : 34.92sec\n",
      "\n",
      "Epoch : 18 | Train Loss : 0.77688 | Train P.A : 97.72% | Train IOU : 0.41891 | Val Loss : 0.99485 | Val P.A : 97.68% | Val IOU : 0.00442 | Training Time : 33.46sec\n",
      "\n",
      "Epoch : 19 | Train Loss : 0.77781 | Train P.A : 97.60% | Train IOU : 0.37678 | Val Loss : 0.99263 | Val P.A : 97.76% | Val IOU : 0.00506 | Training Time : 34.60sec\n",
      "\n",
      "Epoch : 20 | Train Loss : 0.75524 | Train P.A : 97.74% | Train IOU : 0.40385 | Val Loss : 0.99762 | Val P.A : 97.72% | Val IOU : 0.00221 | Training Time : 33.87sec\n",
      "\n",
      "Epoch : 21 | Train Loss : 0.76993 | Train P.A : 97.77% | Train IOU : 0.41485 | Val Loss : 0.97269 | Val P.A : 97.15% | Val IOU : 0.01617 | Training Time : 34.20sec\n",
      "\n",
      "Epoch : 22 | Train Loss : 0.76763 | Train P.A : 97.69% | Train IOU : 0.40115 | Val Loss : 0.98289 | Val P.A : 97.51% | Val IOU : 0.01156 | Training Time : 34.11sec\n",
      "\n",
      "Epoch : 23 | Train Loss : 0.76953 | Train P.A : 97.74% | Train IOU : 0.41211 | Val Loss : 0.95349 | Val P.A : 97.12% | Val IOU : 0.03395 | Training Time : 34.83sec\n",
      "\n",
      "Epoch : 24 | Train Loss : 0.76054 | Train P.A : 97.70% | Train IOU : 0.40871 | Val Loss : 0.97534 | Val P.A : 97.43% | Val IOU : 0.01933 | Training Time : 33.70sec\n",
      "\n",
      "Epoch : 25 | Train Loss : 0.76506 | Train P.A : 97.68% | Train IOU : 0.40792 | Val Loss : 0.97081 | Val P.A : 97.50% | Val IOU : 0.02129 | Training Time : 33.42sec\n",
      "\n",
      "Epoch : 26 | Train Loss : 0.76081 | Train P.A : 97.70% | Train IOU : 0.38913 | Val Loss : 0.99205 | Val P.A : 97.74% | Val IOU : 0.00502 | Training Time : 34.60sec\n",
      "\n",
      "Epoch : 27 | Train Loss : 0.77003 | Train P.A : 97.65% | Train IOU : 0.41508 | Val Loss : 0.99412 | Val P.A : 97.71% | Val IOU : 0.00733 | Training Time : 32.64sec\n",
      "\n",
      "Epoch : 28 | Train Loss : 0.76995 | Train P.A : 97.69% | Train IOU : 0.40273 | Val Loss : 0.97920 | Val P.A : 97.62% | Val IOU : 0.02348 | Training Time : 34.30sec\n",
      "\n",
      "Epoch : 29 | Train Loss : 0.76107 | Train P.A : 97.59% | Train IOU : 0.40152 | Val Loss : 0.99347 | Val P.A : 97.48% | Val IOU : 0.00696 | Training Time : 35.28sec\n",
      "\n",
      "Epoch : 30 | Train Loss : 0.77089 | Train P.A : 97.72% | Train IOU : 0.40561 | Val Loss : 0.96043 | Val P.A : 97.40% | Val IOU : 0.02392 | Training Time : 34.24sec\n",
      "\n",
      "Epoch : 31 | Train Loss : 0.75501 | Train P.A : 97.87% | Train IOU : 0.42080 | Val Loss : 0.99001 | Val P.A : 97.56% | Val IOU : 0.00931 | Training Time : 33.61sec\n",
      "\n",
      "Epoch : 32 | Train Loss : 0.76228 | Train P.A : 97.86% | Train IOU : 0.40002 | Val Loss : 0.98382 | Val P.A : 97.33% | Val IOU : 0.01349 | Training Time : 33.77sec\n",
      "\n",
      "Epoch : 33 | Train Loss : 0.76374 | Train P.A : 97.75% | Train IOU : 0.42074 | Val Loss : 0.98300 | Val P.A : 97.32% | Val IOU : 0.01346 | Training Time : 33.85sec\n",
      "\n",
      "Epoch : 34 | Train Loss : 0.75620 | Train P.A : 97.79% | Train IOU : 0.42710 | Val Loss : 0.98592 | Val P.A : 97.51% | Val IOU : 0.01476 | Training Time : 34.20sec\n",
      "\n",
      "Epoch : 35 | Train Loss : 0.74574 | Train P.A : 97.82% | Train IOU : 0.41687 | Val Loss : 0.99999 | Val P.A : 97.61% | Val IOU : 0.00000 | Training Time : 33.87sec\n",
      "\n",
      "Epoch : 36 | Train Loss : 0.76248 | Train P.A : 97.79% | Train IOU : 0.42119 | Val Loss : 0.98576 | Val P.A : 97.48% | Val IOU : 0.01312 | Training Time : 34.70sec\n",
      "\n",
      "Epoch : 37 | Train Loss : 0.74765 | Train P.A : 97.87% | Train IOU : 0.43754 | Val Loss : 0.98534 | Val P.A : 97.49% | Val IOU : 0.02107 | Training Time : 34.17sec\n",
      "\n",
      "Epoch : 38 | Train Loss : 0.75451 | Train P.A : 97.91% | Train IOU : 0.43273 | Val Loss : 0.98783 | Val P.A : 97.46% | Val IOU : 0.01098 | Training Time : 33.22sec\n",
      "\n",
      "Epoch : 39 | Train Loss : 0.74406 | Train P.A : 97.85% | Train IOU : 0.41759 | Val Loss : 0.98115 | Val P.A : 97.27% | Val IOU : 0.01466 | Training Time : 34.16sec\n",
      "\n",
      "Epoch : 40 | Train Loss : 0.75300 | Train P.A : 97.80% | Train IOU : 0.40747 | Val Loss : 0.99388 | Val P.A : 97.56% | Val IOU : 0.00631 | Training Time : 34.12sec\n",
      "\n",
      "Epoch : 41 | Train Loss : 0.76194 | Train P.A : 97.73% | Train IOU : 0.41388 | Val Loss : 0.97197 | Val P.A : 97.58% | Val IOU : 0.01699 | Training Time : 34.31sec\n",
      "\n",
      "Epoch : 42 | Train Loss : 0.74226 | Train P.A : 97.87% | Train IOU : 0.44255 | Val Loss : 0.99234 | Val P.A : 97.38% | Val IOU : 0.00692 | Training Time : 33.08sec\n",
      "\n",
      "Epoch : 43 | Train Loss : 0.75474 | Train P.A : 97.82% | Train IOU : 0.41041 | Val Loss : 0.98370 | Val P.A : 97.62% | Val IOU : 0.01207 | Training Time : 33.19sec\n",
      "\n",
      "Epoch : 44 | Train Loss : 0.76039 | Train P.A : 97.78% | Train IOU : 0.42850 | Val Loss : 0.99268 | Val P.A : 97.62% | Val IOU : 0.00406 | Training Time : 35.01sec\n",
      "\n",
      "Epoch : 45 | Train Loss : 0.75764 | Train P.A : 97.70% | Train IOU : 0.40068 | Val Loss : 0.97438 | Val P.A : 97.11% | Val IOU : 0.01730 | Training Time : 34.26sec\n",
      "\n",
      "Epoch : 46 | Train Loss : 0.74912 | Train P.A : 97.87% | Train IOU : 0.41252 | Val Loss : 0.98906 | Val P.A : 97.35% | Val IOU : 0.00601 | Training Time : 33.86sec\n",
      "\n",
      "Epoch : 47 | Train Loss : 0.73724 | Train P.A : 97.79% | Train IOU : 0.42112 | Val Loss : 0.98043 | Val P.A : 97.31% | Val IOU : 0.01219 | Training Time : 34.31sec\n",
      "\n",
      "Epoch : 48 | Train Loss : 0.75212 | Train P.A : 97.83% | Train IOU : 0.42500 | Val Loss : 0.98638 | Val P.A : 97.38% | Val IOU : 0.00875 | Training Time : 33.28sec\n",
      "\n",
      "Epoch : 49 | Train Loss : 0.74377 | Train P.A : 97.86% | Train IOU : 0.42498 | Val Loss : 0.98676 | Val P.A : 97.53% | Val IOU : 0.01548 | Training Time : 33.60sec\n",
      "\n",
      "Epoch : 50 | Train Loss : 0.75855 | Train P.A : 97.76% | Train IOU : 0.40616 | Val Loss : 0.98221 | Val P.A : 97.47% | Val IOU : 0.01591 | Training Time : 33.57sec\n",
      "\n",
      "Epoch : 51 | Train Loss : 0.75240 | Train P.A : 97.87% | Train IOU : 0.42286 | Val Loss : 0.99276 | Val P.A : 97.55% | Val IOU : 0.00688 | Training Time : 33.42sec\n",
      "\n",
      "Epoch : 52 | Train Loss : 0.73816 | Train P.A : 97.87% | Train IOU : 0.43577 | Val Loss : 0.99756 | Val P.A : 97.54% | Val IOU : 0.00250 | Training Time : 35.01sec\n",
      "\n",
      "Epoch : 53 | Train Loss : 0.74303 | Train P.A : 97.84% | Train IOU : 0.41968 | Val Loss : 0.99321 | Val P.A : 97.65% | Val IOU : 0.00456 | Training Time : 33.70sec\n",
      "\n",
      "Epoch : 54 | Train Loss : 0.75828 | Train P.A : 97.81% | Train IOU : 0.44684 | Val Loss : 0.98589 | Val P.A : 97.50% | Val IOU : 0.01576 | Training Time : 33.49sec\n",
      "Validation performance didn't improve for 30 epochs. Training stops.\n"
     ]
    },
    {
     "data": {
      "text/html": [
       "Waiting for W&B process to finish... <strong style=\"color:green\">(success).</strong>"
      ],
      "text/plain": [
       "<IPython.core.display.HTML object>"
      ]
     },
     "metadata": {},
     "output_type": "display_data"
    },
    {
     "data": {
      "application/vnd.jupyter.widget-view+json": {
       "model_id": "8fb3f9e3333649089a2c8e5973321146",
       "version_major": 2,
       "version_minor": 0
      },
      "text/plain": [
       "VBox(children=(Label(value='74.055 MB of 74.055 MB uploaded (0.000 MB deduped)\\r'), FloatProgress(value=1.0, m…"
      ]
     },
     "metadata": {},
     "output_type": "display_data"
    },
    {
     "data": {
      "text/html": [
       "<style>\n",
       "    table.wandb td:nth-child(1) { padding: 0 10px; text-align: left ; width: auto;} td:nth-child(2) {text-align: left ; width: 100%}\n",
       "    .wandb-row { display: flex; flex-direction: row; flex-wrap: wrap; justify-content: flex-start; width: 100% }\n",
       "    .wandb-col { display: flex; flex-direction: column; flex-basis: 100%; flex: 1; padding: 10px; }\n",
       "    </style>\n",
       "<div class=\"wandb-row\"><div class=\"wandb-col\"><h3>Run history:</h3><br/><table class=\"wandb\"><tr><td>Train IOU</td><td>▁▅▅▆▆▆▆▆▇▇▇▆▇▇▆▇▇▇▇▇▇▇▇▇▇█▇██▇▇██▇▇▇▇▇██</td></tr><tr><td>Train Loss</td><td>█▅▄▄▃▄▃▃▂▂▃▂▂▂▃▂▂▂▂▂▂▂▂▂▂▂▂▁▂▂▂▁▂▂▁▂▁▂▁▂</td></tr><tr><td>Train P.A</td><td>▁▇██████████████████████████████████████</td></tr><tr><td>Val IOU</td><td>▁▂▁▅▆▁▅▃▂▂▃▇▇▂▂▁▃█▅▂▂▂▆▃▄▄▃▅▃▂▄▂▁▄▃▃▄▂▁▄</td></tr><tr><td>Val Loss</td><td>▇▇█▄▅█▄▇▆▆▆▄▂▇▇█▆▁▄▇▇▇▂▇▆▆▆▆▆▇▄▇▇▄▅▆▆▇█▆</td></tr><tr><td>Val P.A</td><td>█▇█▅▇▇▇███▇▅▁▇██▆▄▆██▆▆▇▅▆▆▆▆▇▇▆▇▄▅▆▆▇▇▆</td></tr></table><br/></div><div class=\"wandb-col\"><h3>Run summary:</h3><br/><table class=\"wandb\"><tr><td>Train IOU</td><td>0.44684</td></tr><tr><td>Train Loss</td><td>0.75828</td></tr><tr><td>Train P.A</td><td>97.80989</td></tr><tr><td>Val IOU</td><td>0.01576</td></tr><tr><td>Val Loss</td><td>0.98589</td></tr><tr><td>Val P.A</td><td>97.50362</td></tr></table><br/></div></div>"
      ],
      "text/plain": [
       "<IPython.core.display.HTML object>"
      ]
     },
     "metadata": {},
     "output_type": "display_data"
    },
    {
     "data": {
      "text/html": [
       "Synced <strong style=\"color:#cdcd00\">U-Net_Efficientnet_unrefined</strong>: <a href=\"https://wandb.ai/imlim/Segmentation/runs/23s795le\" target=\"_blank\">https://wandb.ai/imlim/Segmentation/runs/23s795le</a><br/>Synced 6 W&B file(s), 2080 media file(s), 0 artifact file(s) and 0 other file(s)"
      ],
      "text/plain": [
       "<IPython.core.display.HTML object>"
      ]
     },
     "metadata": {},
     "output_type": "display_data"
    },
    {
     "data": {
      "text/html": [
       "Find logs at: <code>./wandb/run-20230112_205241-23s795le/logs</code>"
      ],
      "text/plain": [
       "<IPython.core.display.HTML object>"
      ]
     },
     "metadata": {},
     "output_type": "display_data"
    }
   ],
   "source": [
    "trainer.train()"
   ]
  },
  {
   "cell_type": "code",
   "execution_count": null,
   "metadata": {},
   "outputs": [],
   "source": []
  }
 ],
 "metadata": {
  "kernelspec": {
   "display_name": "Torch",
   "language": "python",
   "name": "python3"
  },
  "language_info": {
   "codemirror_mode": {
    "name": "ipython",
    "version": 3
   },
   "file_extension": ".py",
   "mimetype": "text/x-python",
   "name": "python",
   "nbconvert_exporter": "python",
   "pygments_lexer": "ipython3",
   "version": "3.10.8 | packaged by conda-forge | (main, Nov 22 2022, 08:23:14) [GCC 10.4.0]"
  },
  "orig_nbformat": 4,
  "vscode": {
   "interpreter": {
    "hash": "867dcab57263476bc7cd24a738863ae113fd3e5f85bcd4c9da88727adae00323"
   }
  }
 },
 "nbformat": 4,
 "nbformat_minor": 2
}
